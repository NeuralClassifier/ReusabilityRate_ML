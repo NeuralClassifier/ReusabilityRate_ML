{
 "nbformat": 4,
 "nbformat_minor": 0,
 "metadata": {
  "colab": {
   "name": "SelectingTheBestModel_Classifier",
   "provenance": [],
   "authorship_tag": "ABX9TyMNrUEKvEhTdbeKXARgWjsK",
   "include_colab_link": true
  },
  "kernelspec": {
   "name": "python3",
   "display_name": "Python 3"
  },
  "language_info": {
   "name": "python"
  }
 },
 "cells": [
  {
   "cell_type": "markdown",
   "metadata": {
    "id": "view-in-github",
    "colab_type": "text"
   },
   "source": [
    "<a href=\"https://colab.research.google.com/github/NeuralClassifier/ReusabilityRate_ML/blob/main/SelectingTheBestModel_Classifier.ipynb\" target=\"_parent\"><img src=\"https://colab.research.google.com/assets/colab-badge.svg\" alt=\"Open In Colab\"/></a>"
   ]
  },
  {
   "cell_type": "code",
   "execution_count": null,
   "outputs": [],
   "source": [
    "!pip install -U scikit-learn==1.0.1\n",
    "!pip install -U tensorflow==2.7.0\n",
    "!pip install -U seaborn==0.11.2\n",
    "!pip install -U matplotlib==3.5.0\n",
    "!pip install -U pandas==1.3.4"
   ],
   "metadata": {
    "collapsed": false,
    "pycharm": {
     "name": "#%%\n"
    }
   }
  },
  {
   "cell_type": "code",
   "metadata": {
    "id": "T8CskvyMFCrK"
   },
   "source": [
    "import numpy as np\n",
    "import pandas as pd\n",
    "import warnings\n",
    "from collections import Counter\n",
    "import matplotlib.pyplot as plt"
   ],
   "execution_count": 1,
   "outputs": []
  },
  {
   "cell_type": "code",
   "metadata": {
    "id": "5dhh9wRJFWtJ"
   },
   "source": [
    "warnings.filterwarnings('ignore')\n",
    "class SelectBest:\n",
    "  def __init__(self,dfname):\n",
    "    if dfname.lower() == 'class':\n",
    "      self.df = pd.read_excel('Results/ClassLevelPred_classifier.xlsx')\n",
    "      self.df.drop(['Unnamed: 0'],axis =1, inplace=True)\n",
    "      self.list_of_metrics = list(self.df['Metric'].unique())\n",
    "      self.level='class'\n",
    "    elif dfname.lower() == 'package':\n",
    "\n",
    "      self.df = pd.read_excel('Results/PackageLevelPred_classifier.xlsx')\n",
    "      self.df.drop(['Unnamed: 0'],axis =1, inplace=True)\n",
    "      self.list_of_metrics = list(self.df['Metric'].unique())\n",
    "      self.level='package'\n",
    "    else:\n",
    "      print('wrong input!! Try again :)')\n",
    "\n",
    "  def best_model(self,metrics):\n",
    "\n",
    "    #if dfname.lower() == 'class':\n",
    "      #df = pd.read_excel('Results/classRes_TraditionalModels.xlsx')\n",
    "      #df.drop(['Unnamed: 0'],axis =1, inplace=True)\n",
    "      #list_of_metrics = list(df['Metric'].unique())\n",
    "      \n",
    "    if metrics.lower() == 'accuracy':\n",
    "  \n",
    "      best_model = []\n",
    "      for i in self.list_of_metrics:\n",
    "        df_temp = self.df[self.df['Metric']==i]\n",
    "        best_idx = df_temp[df_temp.Acc == df_temp.Acc.max()].index[0]\n",
    "        bestModel = self.df.iloc[best_idx,2]\n",
    "        best_model.append(['Accuracy',i,bestModel])\n",
    "\n",
    "      return best_model\n",
    "\n",
    "    elif metrics.lower() == 'precision':\n",
    "\n",
    "      best_model = []\n",
    "      for i in self.list_of_metrics:\n",
    "        df_temp = self.df[self.df['Metric']==i]\n",
    "        best_idx = df_temp[df_temp.Pre == df_temp.Pre.max()].index[0]\n",
    "        bestModel = self.df.iloc[best_idx,2]\n",
    "        best_model.append(['Precision',i,bestModel])\n",
    "\n",
    "      return best_model\n",
    "    \n",
    "    elif metrics.lower() == 'recall':\n",
    "\n",
    "      best_model = []\n",
    "      for i in self.list_of_metrics:\n",
    "        df_temp = self.df[self.df['Metric']==i]\n",
    "        best_idx = df_temp[df_temp.Rec == df_temp.Rec.max()].index[0]\n",
    "        bestModel = self.df.iloc[best_idx,2]\n",
    "        best_model.append(['Recall',i,bestModel])\n",
    "\n",
    "      return best_model\n",
    "\n",
    "    else:\n",
    "      print('wrong input!! Try again :)')\n",
    "\n",
    "    #elif dfname.lower() == 'package':\n",
    "\n",
    "      #df = pd.read_excel('Results/packageRes_TraditionalModels.xlsx')\n",
    "      #df.drop(['Unnamed: 0'],axis =1, inplace=True)\n",
    "      #list_of_metrics = list(df['Metric'].unique())\n",
    "\n",
    "    if metrics.lower() == 'accuracy':\n",
    "  \n",
    "      best_model = []\n",
    "      for i in self.list_of_metrics:\n",
    "        df_temp = self.df[self.df['Metric']==i]\n",
    "        best_idx = df_temp[df_temp.Acc == df_temp.Acc.max()].index[0]\n",
    "        bestModel = self.df.iloc[best_idx,2]\n",
    "        best_model.append(['Accuracy',i,bestModel])\n",
    "\n",
    "      return best_model\n",
    "\n",
    "    elif metrics.lower() == 'precision':\n",
    "\n",
    "      best_model = []\n",
    "      for i in self.list_of_metrics:\n",
    "        df_temp = self.df[self.df['Metric']==i]\n",
    "        best_idx = df_temp[df_temp.Pre == df_temp.Pre.max()].index[0]\n",
    "        bestModel = self.df.iloc[best_idx,2]\n",
    "        best_model.append(['Precision',i,bestModel])\n",
    "\n",
    "      return best_model\n",
    "    \n",
    "    elif metrics.lower() == 'recall':\n",
    "\n",
    "      best_model = []\n",
    "      for i in self.list_of_metrics:\n",
    "        df_temp = self.df[self.df['Metric']==i]\n",
    "        best_idx = df_temp[df_temp.Rec == df_temp.Rec.max()].index[0]\n",
    "        bestModel = self.df.iloc[best_idx,2]\n",
    "        best_model.append(['Recall',i,bestModel])\n",
    "\n",
    "      return best_model\n",
    "      \n",
    "    else:\n",
    "      print('wrong input!! Try again :)')\n",
    "\n",
    "      #return list_of_metrics\n",
    "\n",
    "    #else:\n",
    "      #print('wrong input!! Try again :)')\n",
    "  def best_metric(self,measure):\n",
    "    avg_score = []\n",
    "    for i in self.list_of_metrics:\n",
    "      df_temp = self.df[self.df['Metric']==i]\n",
    "      avg = df_temp.Acc.mean()\n",
    "      avg_score.append([i,avg])\n",
    "    #return min(avg_score)\n",
    "    avg_score = np.array(avg_score)\n",
    "    metric_name=''\n",
    "    max_value=0\n",
    "    for i in avg_score:\n",
    "      if float(i[1])>max_value:\n",
    "        metric_name = i[0]\n",
    "        max_value = float(i[1])\n",
    "    print('Best Metric: ', metric_name, 'Avg Score: ', max_value)\n",
    "    #return avg_score\n",
    "    choice_to_show = input('You want to see the average scores for each metric (Y/N): ')\n",
    "    if choice_to_show.lower() == 'y':\n",
    "      print(avg_score)\n",
    "  \n",
    "  def plot_best_model(self,metric):\n",
    "    \n",
    "    D = self.best_model(metric)\n",
    "    D = list(np.array(D)[:,2])\n",
    "    D = Counter(D)\n",
    "    plt.bar(range(len(D)), list(D.values()), align='center')\n",
    "    plt.xticks(range(len(D)), list(D.keys()))\n",
    "    #plt.savefig('BestModel_Plots/bestModels_'+self.level.lower()+'Level_'+metric+'.png')\n",
    "    plt.show()"
   ],
   "execution_count": 5,
   "outputs": []
  },
  {
   "cell_type": "code",
   "metadata": {
    "colab": {
     "base_uri": "https://localhost:8080/"
    },
    "id": "I_ohz1qfNExl",
    "outputId": "4dfdcec3-bc32-49ff-c475-47fd900fb78b"
   },
   "source": [
    "sb = SelectBest('Class')\n",
    "svg_arr=sb.best_metric('accuracy')"
   ],
   "execution_count": 12,
   "outputs": [
    {
     "output_type": "stream",
     "name": "stdout",
     "text": [
      "Best Metric:  LLOC Avg Score:  0.8188572862854427\n",
      "You want to see the average scores for each metric (Y/N): Y\n",
      "[['LCOM5' '0.8184390615037281']\n",
      " ['NL' '0.8184991834636755']\n",
      " ['NLE' '0.818040404315606']\n",
      " ['WMC' '0.8185348398320081']\n",
      " ['CBO' '0.8186205212494632']\n",
      " ['CBOI' '0.8180154914182358']\n",
      " ['NII' '0.8185146317779022']\n",
      " ['NOI' '0.8180255070007418']\n",
      " ['RFC' '0.8185795907396323']\n",
      " ['AD' '0.8183835589923096']\n",
      " ['CD' '0.8188271358443181']\n",
      " ['TCD' '0.8184289950910226']\n",
      " ['CLOC' '0.8185900739599735']\n",
      " ['TCLOC' '0.8180558261981288']\n",
      " ['DLOC' '0.8179749512843368']\n",
      " ['PDA' '0.8182776674875405']\n",
      " ['DIT' '0.8180202653905712']\n",
      " ['LLOC' '0.8188572862854427']\n",
      " ['LOC' '0.818262497722807']\n",
      " ['TLOC' '0.8178489452530286']\n",
      " ['NG' '0.8184188148186703']\n",
      " ['TLLOC' '0.8186507387864513']\n",
      " ['TNA' '0.8186205436147509']\n",
      " ['TNG' '0.8184842841156033']\n",
      " ['TNM' '0.8180408109572017']\n",
      " ['TNOS' '0.8181919230406381']\n",
      " ['TNPM' '0.8184189530768131']]\n"
     ]
    }
   ]
  },
  {
   "cell_type": "code",
   "metadata": {
    "colab": {
     "base_uri": "https://localhost:8080/",
     "height": 265
    },
    "id": "A_e7SBqDNuZB",
    "outputId": "bcbfb5ef-369d-40b0-9485-73fe3dffb0a6"
   },
   "source": [
    "sb.plot_best_model('accuracy')"
   ],
   "execution_count": 10,
   "outputs": [
    {
     "output_type": "display_data",
     "data": {
      "image/png": "[encoded data removed]",
      "text/plain": [
       "<Figure size 432x288 with 1 Axes>"
      ]
     },
     "metadata": {
      "needs_background": "light"
     }
    }
   ]
  },
  {
   "cell_type": "code",
   "metadata": {
    "id": "Q5utFyXkOPbM"
   },
   "source": [
    "}"
   ],
   "execution_count": null,
   "outputs": []
  }
 ]
}