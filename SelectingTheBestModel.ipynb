{
  "nbformat": 4,
  "nbformat_minor": 0,
  "metadata": {
    "colab": {
      "name": "SelectingTheBestModel",
      "provenance": [],
      "authorship_tag": "ABX9TyMjd9EN8ofdWCEbAyUOK1Dc",
      "include_colab_link": true
    },
    "kernelspec": {
      "name": "python3",
      "display_name": "Python 3"
    },
    "language_info": {
      "name": "python"
    }
  },
  "cells": [
    {
      "cell_type": "markdown",
      "metadata": {
        "id": "view-in-github",
        "colab_type": "text"
      },
      "source": [
        "<a href=\"https://colab.research.google.com/github/NeuralClassifier/ReusabilityRate_ML/blob/main/SelectingTheBestModel.ipynb\" target=\"_parent\"><img src=\"https://colab.research.google.com/assets/colab-badge.svg\" alt=\"Open In Colab\"/></a>"
      ]
    },
    {
      "cell_type": "code",
      "metadata": {
        "id": "ZY028_MLP52N"
      },
      "source": [
        "import numpy as np\n",
        "import pandas as pd\n",
        "import warnings"
      ],
      "execution_count": 39,
      "outputs": []
    },
    {
      "cell_type": "code",
      "metadata": {
        "colab": {
          "base_uri": "https://localhost:8080/"
        },
        "id": "MeURpsAYQYHK",
        "outputId": "d8c7ca3c-8c37-4585-9610-8c46afb58651"
      },
      "source": [
        "!git clone https://github.com/NeuralClassifier/ReusabilityRate_ML"
      ],
      "execution_count": 3,
      "outputs": [
        {
          "output_type": "stream",
          "name": "stdout",
          "text": [
            "Cloning into 'ReusabilityRate_ML'...\n",
            "remote: Enumerating objects: 69, done.\u001b[K\n",
            "remote: Counting objects: 100% (69/69), done.\u001b[K\n",
            "remote: Compressing objects: 100% (66/66), done.\u001b[K\n",
            "remote: Total 69 (delta 20), reused 3 (delta 1), pack-reused 0\u001b[K\n",
            "Unpacking objects: 100% (69/69), done.\n"
          ]
        }
      ]
    },
    {
      "cell_type": "code",
      "metadata": {
        "id": "J9O-C4KUQtTz"
      },
      "source": [
        "warnings.filterwarnings('ignore')\n",
        "class SelectBest:\n",
        "  def __init__(self,dfname):\n",
        "    if dfname.lower() == 'class':\n",
        "      self.df = pd.read_excel('/content/ReusabilityRate_ML/Results/classRes_TraditionalModels.xlsx')\n",
        "      self.df.drop(['Unnamed: 0'],axis =1, inplace=True)\n",
        "      self.list_of_metrics = list(self.df['Metric'].unique())\n",
        "    elif dfname.lower() == 'package':\n",
        "\n",
        "      self.df = pd.read_excel('/content/ReusabilityRate_ML/Results/packageRes_TraditionalModels.xlsx')\n",
        "      self.df.drop(['Unnamed: 0'],axis =1, inplace=True)\n",
        "      self.list_of_metrics = list(self.df['Metric'].unique())\n",
        "    else:\n",
        "      print('wrong input!! Try again :)')\n",
        "\n",
        "  def best_model(self,metrics):\n",
        "\n",
        "    #if dfname.lower() == 'class':\n",
        "      #df = pd.read_excel('/content/ReusabilityRate_ML/Results/classRes_TraditionalModels.xlsx')\n",
        "      #df.drop(['Unnamed: 0'],axis =1, inplace=True)\n",
        "      #list_of_metrics = list(df['Metric'].unique())\n",
        "      \n",
        "    if metrics.lower() == 'rmse':\n",
        "  \n",
        "      best_model = []\n",
        "      for i in self.list_of_metrics:\n",
        "        df_temp = self.df[self.df['Metric']==i]\n",
        "        best_idx = df_temp[df_temp.RMSE == df_temp.RMSE.min()].index[0]\n",
        "        bestModel = self.df.iloc[best_idx,2]\n",
        "        best_model.append(['RMSE',i,bestModel])\n",
        "\n",
        "      return best_model\n",
        "\n",
        "    elif metrics.lower() == 'mae':\n",
        "\n",
        "      best_model = []\n",
        "      for i in self.list_of_metrics:\n",
        "        df_temp = self.df[self.df['Metric']==i]\n",
        "        best_idx = df_temp[df_temp.MAE == df_temp.MAE.min()].index[0]\n",
        "        bestModel = self.df.iloc[best_idx,2]\n",
        "        best_model.append(['MAE',i,bestModel])\n",
        "\n",
        "      return best_model\n",
        "\n",
        "    else:\n",
        "      print('wrong input!! Try again :)')\n",
        "\n",
        "    #elif dfname.lower() == 'package':\n",
        "\n",
        "      #df = pd.read_excel('/content/ReusabilityRate_ML/Results/packageRes_TraditionalModels.xlsx')\n",
        "      #df.drop(['Unnamed: 0'],axis =1, inplace=True)\n",
        "      #list_of_metrics = list(df['Metric'].unique())\n",
        "\n",
        "    if metrics.lower() == 'rmse':\n",
        "      best_model = []\n",
        "      for i in self.list_of_metrics:\n",
        "        df_temp = self.df[self.df['Metric']==i]\n",
        "        best_idx = df_temp[df_temp.RMSE == df_temp.RMSE.min()].index[0]\n",
        "        bestModel = self.df.iloc[best_idx,2]\n",
        "        best_model.append(['RMSE',i,bestModel])\n",
        "\n",
        "      return best_model\n",
        "      \n",
        "    elif metrics.lower() == 'mae':\n",
        "      best_model = []\n",
        "      for i in self.list_of_metrics:\n",
        "        df_temp = self.df[self.df['Metric']==i]\n",
        "        best_idx = df_temp[df_temp.MAE == df_temp.MAE.min()].index[0]\n",
        "        bestModel = self.df.iloc[best_idx,2]\n",
        "        best_model.append(['MAE',i,bestModel])\n",
        "\n",
        "      return best_model\n",
        "      \n",
        "    else:\n",
        "      print('wrong input!! Try again :)')\n",
        "\n",
        "      #return list_of_metrics\n",
        "\n",
        "    #else:\n",
        "      #print('wrong input!! Try again :)')\n",
        "  def best_metric(self,measure):\n",
        "    avg_score = []\n",
        "    for i in self.list_of_metrics:\n",
        "      df_temp = self.df[self.df['Metric']==i]\n",
        "      avg = df_temp.RMSE.mean()\n",
        "      avg_score.append([i,avg])\n",
        "    #return min(avg_score)\n",
        "    avg_score = np.array(avg_score)\n",
        "    return avg_score"
      ],
      "execution_count": 50,
      "outputs": []
    },
    {
      "cell_type": "code",
      "metadata": {
        "colab": {
          "base_uri": "https://localhost:8080/"
        },
        "id": "AD4PcVEZQ5cr",
        "outputId": "0fbfa9d4-7afe-4a3e-8ad2-7f2975351eef"
      },
      "source": [
        "sb = SelectBest('Package')\n",
        "sb.best_metric('RMSE')"
      ],
      "execution_count": 51,
      "outputs": [
        {
          "output_type": "execute_result",
          "data": {
            "text/plain": [
              "array([['AD', '0.006765672623038457'],\n",
              "       ['CD', '0.005308008217137662'],\n",
              "       ['TCD', '0.0035221651479300903'],\n",
              "       ['CLOC', '0.006139396485413256'],\n",
              "       ['TCLOC', '0.008482025135206546'],\n",
              "       ['PDA', '0.018536655954425635'],\n",
              "       ['TPDA', '0.007230899412558999'],\n",
              "       ['LLOC', '0.006115854251818771'],\n",
              "       ['LOC', '0.004504718875387274'],\n",
              "       ['TLOC', '0.003508612155297518'],\n",
              "       ['NG', '0.005145429760760879'],\n",
              "       ['TLLOC', '0.005171332658326905'],\n",
              "       ['TNA', '0.006612669476278417'],\n",
              "       ['TNG', '0.004099411208198793'],\n",
              "       ['TNM', '0.0051297037372605905'],\n",
              "       ['TNOS', '0.005150991671235039'],\n",
              "       ['TNPM', '0.004571703986042096'],\n",
              "       ['NCL', '0.004718068069564548']], dtype='<U21')"
            ]
          },
          "metadata": {},
          "execution_count": 51
        }
      ]
    },
    {
      "cell_type": "code",
      "metadata": {
        "id": "BHZe_KEzR7j9"
      },
      "source": [
        ""
      ],
      "execution_count": 24,
      "outputs": []
    },
    {
      "cell_type": "code",
      "metadata": {
        "id": "2JjCpOXFT37p"
      },
      "source": [
        ""
      ],
      "execution_count": 16,
      "outputs": []
    },
    {
      "cell_type": "code",
      "metadata": {
        "id": "uPiUZ4_QXNkQ"
      },
      "source": [
        ""
      ],
      "execution_count": 16,
      "outputs": []
    },
    {
      "cell_type": "code",
      "metadata": {
        "id": "OTfVQKAKXWwR"
      },
      "source": [
        ""
      ],
      "execution_count": null,
      "outputs": []
    }
  ]
}