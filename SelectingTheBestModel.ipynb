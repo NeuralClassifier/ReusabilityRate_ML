{
  "nbformat": 4,
  "nbformat_minor": 0,
  "metadata": {
    "colab": {
      "name": "SelectingTheBestModel",
      "provenance": [],
      "include_colab_link": true
    },
    "kernelspec": {
      "name": "python3",
      "display_name": "Python 3"
    },
    "language_info": {
      "name": "python"
    }
  },
  "cells": [
    {
      "cell_type": "markdown",
      "metadata": {
        "id": "view-in-github",
        "colab_type": "text"
      },
      "source": [
        "<a href=\"https://colab.research.google.com/github/NeuralClassifier/ReusabilityRate_ML/blob/main/SelectingTheBestModel.ipynb\" target=\"_parent\"><img src=\"https://colab.research.google.com/assets/colab-badge.svg\" alt=\"Open In Colab\"/></a>"
      ]
    },
    {
      "cell_type": "code",
      "metadata": {
        "id": "ZY028_MLP52N"
      },
      "source": [
        "import numpy as np\n",
        "import pandas as pd\n",
        "import warnings"
      ],
      "execution_count": 1,
      "outputs": []
    },
    {
      "cell_type": "code",
      "metadata": {
        "colab": {
          "base_uri": "https://localhost:8080/"
        },
        "id": "MeURpsAYQYHK",
        "outputId": "a17ea67c-7f1c-4136-8782-032bfd639238"
      },
      "source": [
        "!git clone https://github.com/NeuralClassifier/ReusabilityRate_ML"
      ],
      "execution_count": 2,
      "outputs": [
        {
          "output_type": "stream",
          "name": "stdout",
          "text": [
            "Cloning into 'ReusabilityRate_ML'...\n",
            "remote: Enumerating objects: 72, done.\u001b[K\n",
            "remote: Counting objects: 100% (72/72), done.\u001b[K\n",
            "remote: Compressing objects: 100% (69/69), done.\u001b[K\n",
            "remote: Total 72 (delta 22), reused 3 (delta 1), pack-reused 0\u001b[K\n",
            "Unpacking objects: 100% (72/72), done.\n"
          ]
        }
      ]
    },
    {
      "cell_type": "code",
      "metadata": {
        "id": "J9O-C4KUQtTz"
      },
      "source": [
        "warnings.filterwarnings('ignore')\n",
        "class SelectBest:\n",
        "  def __init__(self,dfname):\n",
        "    if dfname.lower() == 'class':\n",
        "      self.df = pd.read_excel('/content/ReusabilityRate_ML/Results/classRes_TraditionalModels.xlsx')\n",
        "      self.df.drop(['Unnamed: 0'],axis =1, inplace=True)\n",
        "      self.list_of_metrics = list(self.df['Metric'].unique())\n",
        "    elif dfname.lower() == 'package':\n",
        "\n",
        "      self.df = pd.read_excel('/content/ReusabilityRate_ML/Results/packageRes_TraditionalModels.xlsx')\n",
        "      self.df.drop(['Unnamed: 0'],axis =1, inplace=True)\n",
        "      self.list_of_metrics = list(self.df['Metric'].unique())\n",
        "    else:\n",
        "      print('wrong input!! Try again :)')\n",
        "\n",
        "  def best_model(self,metrics):\n",
        "\n",
        "    #if dfname.lower() == 'class':\n",
        "      #df = pd.read_excel('/content/ReusabilityRate_ML/Results/classRes_TraditionalModels.xlsx')\n",
        "      #df.drop(['Unnamed: 0'],axis =1, inplace=True)\n",
        "      #list_of_metrics = list(df['Metric'].unique())\n",
        "      \n",
        "    if metrics.lower() == 'rmse':\n",
        "  \n",
        "      best_model = []\n",
        "      for i in self.list_of_metrics:\n",
        "        df_temp = self.df[self.df['Metric']==i]\n",
        "        best_idx = df_temp[df_temp.RMSE == df_temp.RMSE.min()].index[0]\n",
        "        bestModel = self.df.iloc[best_idx,2]\n",
        "        best_model.append(['RMSE',i,bestModel])\n",
        "\n",
        "      return best_model\n",
        "\n",
        "    elif metrics.lower() == 'mae':\n",
        "\n",
        "      best_model = []\n",
        "      for i in self.list_of_metrics:\n",
        "        df_temp = self.df[self.df['Metric']==i]\n",
        "        best_idx = df_temp[df_temp.MAE == df_temp.MAE.min()].index[0]\n",
        "        bestModel = self.df.iloc[best_idx,2]\n",
        "        best_model.append(['MAE',i,bestModel])\n",
        "\n",
        "      return best_model\n",
        "\n",
        "    else:\n",
        "      print('wrong input!! Try again :)')\n",
        "\n",
        "    #elif dfname.lower() == 'package':\n",
        "\n",
        "      #df = pd.read_excel('/content/ReusabilityRate_ML/Results/packageRes_TraditionalModels.xlsx')\n",
        "      #df.drop(['Unnamed: 0'],axis =1, inplace=True)\n",
        "      #list_of_metrics = list(df['Metric'].unique())\n",
        "\n",
        "    if metrics.lower() == 'rmse':\n",
        "      best_model = []\n",
        "      for i in self.list_of_metrics:\n",
        "        df_temp = self.df[self.df['Metric']==i]\n",
        "        best_idx = df_temp[df_temp.RMSE == df_temp.RMSE.min()].index[0]\n",
        "        bestModel = self.df.iloc[best_idx,2]\n",
        "        best_model.append(['RMSE',i,bestModel])\n",
        "\n",
        "      return best_model\n",
        "      \n",
        "    elif metrics.lower() == 'mae':\n",
        "      best_model = []\n",
        "      for i in self.list_of_metrics:\n",
        "        df_temp = self.df[self.df['Metric']==i]\n",
        "        best_idx = df_temp[df_temp.MAE == df_temp.MAE.min()].index[0]\n",
        "        bestModel = self.df.iloc[best_idx,2]\n",
        "        best_model.append(['MAE',i,bestModel])\n",
        "\n",
        "      return best_model\n",
        "      \n",
        "    else:\n",
        "      print('wrong input!! Try again :)')\n",
        "\n",
        "      #return list_of_metrics\n",
        "\n",
        "    #else:\n",
        "      #print('wrong input!! Try again :)')\n",
        "  def best_metric(self,measure):\n",
        "    avg_score = []\n",
        "    for i in self.list_of_metrics:\n",
        "      df_temp = self.df[self.df['Metric']==i]\n",
        "      avg = df_temp.RMSE.mean()\n",
        "      avg_score.append([i,avg])\n",
        "    #return min(avg_score)\n",
        "    avg_score = np.array(avg_score)\n",
        "    metric_name=''\n",
        "    min_value=100000000000000000000001010101010101010101010\n",
        "    for i in avg_score:\n",
        "      if float(i[1])<min_value:\n",
        "        metric_name = i[0]\n",
        "        min_value = float(i[1])\n",
        "    print('Best Metric: ', metric_name, 'Avg Score: ', min_value)\n",
        "    #return avg_score\n",
        "    choice_to_show = input('You want to see the average scores for each metric (Y/N): ')\n",
        "    if choice_to_show.lower() == 'y':\n",
        "      print(avg_score)"
      ],
      "execution_count": 25,
      "outputs": []
    },
    {
      "cell_type": "code",
      "metadata": {
        "colab": {
          "base_uri": "https://localhost:8080/"
        },
        "id": "AD4PcVEZQ5cr",
        "outputId": "7a0268c5-c0bd-48e9-b96c-c272dbb189dc"
      },
      "source": [
        "sb = SelectBest('Class')\n",
        "svg_arr=sb.best_metric('RMSE')"
      ],
      "execution_count": 24,
      "outputs": [
        {
          "name": "stdout",
          "output_type": "stream",
          "text": [
            "Best Metric:  AD Avg Score:  0.01245998311123965\n",
            "You want to see the average scores for each metric (Y/N):N\n"
          ]
        }
      ]
    }
  ]
}