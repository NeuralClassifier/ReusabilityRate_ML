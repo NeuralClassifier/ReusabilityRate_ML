{
  "nbformat": 4,
  "nbformat_minor": 0,
  "metadata": {
    "colab": {
      "name": "SelectingTheBestModel",
      "provenance": [],
      "authorship_tag": "ABX9TyP8b2h6gvw06RnkaK6DxaHr",
      "include_colab_link": true
    },
    "kernelspec": {
      "name": "python3",
      "display_name": "Python 3"
    },
    "language_info": {
      "name": "python"
    }
  },
  "cells": [
    {
      "cell_type": "markdown",
      "metadata": {
        "id": "view-in-github",
        "colab_type": "text"
      },
      "source": [
        "<a href=\"https://colab.research.google.com/github/NeuralClassifier/ReusabilityRate_ML/blob/main/SelectingTheBestModel.ipynb\" target=\"_parent\"><img src=\"https://colab.research.google.com/assets/colab-badge.svg\" alt=\"Open In Colab\"/></a>"
      ]
    },
    {
      "cell_type": "code",
      "metadata": {
        "id": "ZY028_MLP52N"
      },
      "source": [
        "import pandas as pd"
      ],
      "execution_count": 1,
      "outputs": []
    },
    {
      "cell_type": "code",
      "metadata": {
        "colab": {
          "base_uri": "https://localhost:8080/"
        },
        "id": "MeURpsAYQYHK",
        "outputId": "f66c342b-7acf-4892-e89a-246368885ed3"
      },
      "source": [
        "!git clone https://github.com/NeuralClassifier/ReusabilityRate_ML"
      ],
      "execution_count": 2,
      "outputs": [
        {
          "output_type": "stream",
          "name": "stdout",
          "text": [
            "Cloning into 'ReusabilityRate_ML'...\n",
            "remote: Enumerating objects: 66, done.\u001b[K\n",
            "remote: Counting objects: 100% (66/66), done.\u001b[K\n",
            "remote: Compressing objects: 100% (63/63), done.\u001b[K\n",
            "remote: Total 66 (delta 19), reused 3 (delta 1), pack-reused 0\u001b[K\n",
            "Unpacking objects: 100% (66/66), done.\n"
          ]
        }
      ]
    },
    {
      "cell_type": "code",
      "metadata": {
        "id": "J9O-C4KUQtTz"
      },
      "source": [
        "def selectBestML(dfname,metrics):\n",
        "\n",
        "  if dfname == 'class':\n",
        "    df = pd.read_excel('/content/ReusabilityRate_ML/Results/classRes_TraditionalModels.xlsx')\n",
        "    df.drop(['Unnamed: 0'],axis =1, inplace=True)\n",
        "    list_of_metrics = list(df['Metric'].unique())\n",
        "    \n",
        "    if metrics == 'RMSE':\n",
        "  \n",
        "      best_model = []\n",
        "      for i in list_of_metrics:\n",
        "        df_temp = df[df['Metric']==i]\n",
        "        best_idx = df_temp[df_temp.RMSE == df_temp.RMSE.min()].index[0]\n",
        "        bestModel = df.iloc[kk,2]\n",
        "        best_model.append(['RMSE',i,bestModel])\n",
        "\n",
        "      return best_model\n",
        "\n",
        "    elif metrics == 'MAE':\n",
        "\n",
        "      best_model = []\n",
        "      for i in list_of_metrics:\n",
        "        df_temp = df[df['Metric']==i]\n",
        "        best_idx = df_temp[df_temp.MAE == df_temp.MAE.min()].index[0]\n",
        "        bestModel = df.iloc[kk,2]\n",
        "        best_model.append(['MAE',i,bestModel])\n",
        "\n",
        "      return best_model\n",
        "\n",
        "    else:\n",
        "      print('wrong input!! Try again :)')\n",
        "\n",
        "  elif dfname == 'package':\n",
        "\n",
        "    df = pd.read_excel('/content/ReusabilityRate_ML/Results/packageRes_TraditionalModels.xlsx')\n",
        "    df.drop(['Unnamed: 0'],axis =1, inplace=True)\n",
        "    list_of_metrics = list(df['Metric'].unique())\n",
        "\n",
        "    return list_of_metrics\n",
        "\n",
        "  else:\n",
        "    print('wrong input!! Try again :)')"
      ],
      "execution_count": 21,
      "outputs": []
    },
    {
      "cell_type": "code",
      "metadata": {
        "colab": {
          "base_uri": "https://localhost:8080/"
        },
        "id": "AD4PcVEZQ5cr",
        "outputId": "6e901a6a-6520-4c96-b418-d34ff8aee810"
      },
      "source": [
        "selectBestML('class','MAE')"
      ],
      "execution_count": 23,
      "outputs": [
        {
          "output_type": "execute_result",
          "data": {
            "text/plain": [
              "[['MAE', 'LCOM5', 'XGB Regressor'],\n",
              " ['MAE', 'NL', 'XGB Regressor'],\n",
              " ['MAE', 'NLE', 'XGB Regressor'],\n",
              " ['MAE', 'WMC', 'XGB Regressor'],\n",
              " ['MAE', 'CBO', 'XGB Regressor'],\n",
              " ['MAE', 'CBOI', 'XGB Regressor'],\n",
              " ['MAE', 'NII', 'XGB Regressor'],\n",
              " ['MAE', 'NOI', 'XGB Regressor'],\n",
              " ['MAE', 'RFC', 'XGB Regressor'],\n",
              " ['MAE', 'AD', 'XGB Regressor'],\n",
              " ['MAE', 'CD', 'XGB Regressor'],\n",
              " ['MAE', 'TCD', 'XGB Regressor'],\n",
              " ['MAE', 'CLOC', 'XGB Regressor'],\n",
              " ['MAE', 'TCLOC', 'XGB Regressor'],\n",
              " ['MAE', 'DLOC', 'XGB Regressor'],\n",
              " ['MAE', 'PDA', 'XGB Regressor'],\n",
              " ['MAE', 'DIT', 'XGB Regressor'],\n",
              " ['MAE', 'LLOC', 'XGB Regressor'],\n",
              " ['MAE', 'LOC', 'XGB Regressor'],\n",
              " ['MAE', 'TLOC', 'XGB Regressor'],\n",
              " ['MAE', 'NG', 'XGB Regressor'],\n",
              " ['MAE', 'TLLOC', 'XGB Regressor'],\n",
              " ['MAE', 'TNA', 'XGB Regressor'],\n",
              " ['MAE', 'TNG', 'XGB Regressor'],\n",
              " ['MAE', 'TNM', 'XGB Regressor'],\n",
              " ['MAE', 'TNOS', 'XGB Regressor'],\n",
              " ['MAE', 'TNPM', 'XGB Regressor']]"
            ]
          },
          "metadata": {},
          "execution_count": 23
        }
      ]
    },
    {
      "cell_type": "code",
      "metadata": {
        "colab": {
          "base_uri": "https://localhost:8080/",
          "height": 419
        },
        "id": "BHZe_KEzR7j9",
        "outputId": "3045573c-b7ba-4895-dd46-f67295fac6ba"
      },
      "source": [
        "df = pd.read_excel('/content/ReusabilityRate_ML/Results/classRes_TraditionalModels.xlsx')\n",
        "df.drop(['Unnamed: 0'],axis =1, inplace=True)\n",
        "df"
      ],
      "execution_count": 4,
      "outputs": [
        {
          "output_type": "execute_result",
          "data": {
            "text/html": [
              "<div>\n",
              "<style scoped>\n",
              "    .dataframe tbody tr th:only-of-type {\n",
              "        vertical-align: middle;\n",
              "    }\n",
              "\n",
              "    .dataframe tbody tr th {\n",
              "        vertical-align: top;\n",
              "    }\n",
              "\n",
              "    .dataframe thead th {\n",
              "        text-align: right;\n",
              "    }\n",
              "</style>\n",
              "<table border=\"1\" class=\"dataframe\">\n",
              "  <thead>\n",
              "    <tr style=\"text-align: right;\">\n",
              "      <th></th>\n",
              "      <th>Metric</th>\n",
              "      <th>Level</th>\n",
              "      <th>Model</th>\n",
              "      <th>RMSE</th>\n",
              "      <th>STD RMSE</th>\n",
              "      <th>MAE</th>\n",
              "      <th>STD MAE</th>\n",
              "    </tr>\n",
              "  </thead>\n",
              "  <tbody>\n",
              "    <tr>\n",
              "      <th>0</th>\n",
              "      <td>LCOM5</td>\n",
              "      <td>class</td>\n",
              "      <td>Polynomial Regression</td>\n",
              "      <td>0.009643</td>\n",
              "      <td>0.007003</td>\n",
              "      <td>0.007600</td>\n",
              "      <td>0.005483</td>\n",
              "    </tr>\n",
              "    <tr>\n",
              "      <th>1</th>\n",
              "      <td>LCOM5</td>\n",
              "      <td>class</td>\n",
              "      <td>MLPRegressor</td>\n",
              "      <td>0.028671</td>\n",
              "      <td>0.016375</td>\n",
              "      <td>0.026074</td>\n",
              "      <td>0.014129</td>\n",
              "    </tr>\n",
              "    <tr>\n",
              "      <th>2</th>\n",
              "      <td>LCOM5</td>\n",
              "      <td>class</td>\n",
              "      <td>BayesianRidge</td>\n",
              "      <td>0.008408</td>\n",
              "      <td>0.006203</td>\n",
              "      <td>0.007088</td>\n",
              "      <td>0.004094</td>\n",
              "    </tr>\n",
              "    <tr>\n",
              "      <th>3</th>\n",
              "      <td>LCOM5</td>\n",
              "      <td>class</td>\n",
              "      <td>SGD Regressor</td>\n",
              "      <td>0.006753</td>\n",
              "      <td>0.007981</td>\n",
              "      <td>0.005309</td>\n",
              "      <td>0.005629</td>\n",
              "    </tr>\n",
              "    <tr>\n",
              "      <th>4</th>\n",
              "      <td>LCOM5</td>\n",
              "      <td>class</td>\n",
              "      <td>XGB Regressor</td>\n",
              "      <td>0.011022</td>\n",
              "      <td>0.006867</td>\n",
              "      <td>0.007839</td>\n",
              "      <td>0.004356</td>\n",
              "    </tr>\n",
              "    <tr>\n",
              "      <th>...</th>\n",
              "      <td>...</td>\n",
              "      <td>...</td>\n",
              "      <td>...</td>\n",
              "      <td>...</td>\n",
              "      <td>...</td>\n",
              "      <td>...</td>\n",
              "      <td>...</td>\n",
              "    </tr>\n",
              "    <tr>\n",
              "      <th>211</th>\n",
              "      <td>TNPM</td>\n",
              "      <td>class</td>\n",
              "      <td>SGD Regressor</td>\n",
              "      <td>0.007336</td>\n",
              "      <td>0.007549</td>\n",
              "      <td>0.005328</td>\n",
              "      <td>0.004568</td>\n",
              "    </tr>\n",
              "    <tr>\n",
              "      <th>212</th>\n",
              "      <td>TNPM</td>\n",
              "      <td>class</td>\n",
              "      <td>XGB Regressor</td>\n",
              "      <td>0.011120</td>\n",
              "      <td>0.007308</td>\n",
              "      <td>0.007887</td>\n",
              "      <td>0.005114</td>\n",
              "    </tr>\n",
              "    <tr>\n",
              "      <th>213</th>\n",
              "      <td>TNPM</td>\n",
              "      <td>class</td>\n",
              "      <td>Decision Tree Regressor</td>\n",
              "      <td>0.009274</td>\n",
              "      <td>0.008335</td>\n",
              "      <td>0.006852</td>\n",
              "      <td>0.006062</td>\n",
              "    </tr>\n",
              "    <tr>\n",
              "      <th>214</th>\n",
              "      <td>TNPM</td>\n",
              "      <td>class</td>\n",
              "      <td>ElasticNet</td>\n",
              "      <td>0.008602</td>\n",
              "      <td>0.006806</td>\n",
              "      <td>0.007438</td>\n",
              "      <td>0.005183</td>\n",
              "    </tr>\n",
              "    <tr>\n",
              "      <th>215</th>\n",
              "      <td>TNPM</td>\n",
              "      <td>class</td>\n",
              "      <td>SVM Regressor</td>\n",
              "      <td>0.019208</td>\n",
              "      <td>0.001354</td>\n",
              "      <td>0.018559</td>\n",
              "      <td>0.002161</td>\n",
              "    </tr>\n",
              "  </tbody>\n",
              "</table>\n",
              "<p>216 rows × 7 columns</p>\n",
              "</div>"
            ],
            "text/plain": [
              "    Metric  Level                    Model  ...  STD RMSE       MAE   STD MAE\n",
              "0    LCOM5  class    Polynomial Regression  ...  0.007003  0.007600  0.005483\n",
              "1    LCOM5  class             MLPRegressor  ...  0.016375  0.026074  0.014129\n",
              "2    LCOM5  class            BayesianRidge  ...  0.006203  0.007088  0.004094\n",
              "3    LCOM5  class            SGD Regressor  ...  0.007981  0.005309  0.005629\n",
              "4    LCOM5  class            XGB Regressor  ...  0.006867  0.007839  0.004356\n",
              "..     ...    ...                      ...  ...       ...       ...       ...\n",
              "211   TNPM  class            SGD Regressor  ...  0.007549  0.005328  0.004568\n",
              "212   TNPM  class            XGB Regressor  ...  0.007308  0.007887  0.005114\n",
              "213   TNPM  class  Decision Tree Regressor  ...  0.008335  0.006852  0.006062\n",
              "214   TNPM  class               ElasticNet  ...  0.006806  0.007438  0.005183\n",
              "215   TNPM  class            SVM Regressor  ...  0.001354  0.018559  0.002161\n",
              "\n",
              "[216 rows x 7 columns]"
            ]
          },
          "metadata": {},
          "execution_count": 4
        }
      ]
    },
    {
      "cell_type": "code",
      "metadata": {
        "colab": {
          "base_uri": "https://localhost:8080/"
        },
        "id": "emlzPmRBTwUh",
        "outputId": "e0aca061-fd88-4733-b112-b5933b30d628"
      },
      "source": [
        "kk = df[df.RMSE == df.RMSE.min()].index[0]\n",
        "kk"
      ],
      "execution_count": 10,
      "outputs": [
        {
          "output_type": "execute_result",
          "data": {
            "text/plain": [
              "12"
            ]
          },
          "metadata": {},
          "execution_count": 10
        }
      ]
    },
    {
      "cell_type": "code",
      "metadata": {
        "colab": {
          "base_uri": "https://localhost:8080/",
          "height": 35
        },
        "id": "2JjCpOXFT37p",
        "outputId": "93d7a381-3c6b-4839-b5b3-e0037c50a028"
      },
      "source": [
        "df.iloc[kk,2]"
      ],
      "execution_count": 13,
      "outputs": [
        {
          "output_type": "execute_result",
          "data": {
            "application/vnd.google.colaboratory.intrinsic+json": {
              "type": "string"
            },
            "text/plain": [
              "'XGB Regressor'"
            ]
          },
          "metadata": {},
          "execution_count": 13
        }
      ]
    },
    {
      "cell_type": "code",
      "metadata": {
        "colab": {
          "base_uri": "https://localhost:8080/",
          "height": 80
        },
        "id": "uPiUZ4_QXNkQ",
        "outputId": "47f3fa57-5730-4caf-8e5e-a150ee8f2cae"
      },
      "source": [
        "df[df.RMSE == df.RMSE.min()]"
      ],
      "execution_count": 12,
      "outputs": [
        {
          "output_type": "execute_result",
          "data": {
            "text/html": [
              "<div>\n",
              "<style scoped>\n",
              "    .dataframe tbody tr th:only-of-type {\n",
              "        vertical-align: middle;\n",
              "    }\n",
              "\n",
              "    .dataframe tbody tr th {\n",
              "        vertical-align: top;\n",
              "    }\n",
              "\n",
              "    .dataframe thead th {\n",
              "        text-align: right;\n",
              "    }\n",
              "</style>\n",
              "<table border=\"1\" class=\"dataframe\">\n",
              "  <thead>\n",
              "    <tr style=\"text-align: right;\">\n",
              "      <th></th>\n",
              "      <th>Metric</th>\n",
              "      <th>Level</th>\n",
              "      <th>Model</th>\n",
              "      <th>RMSE</th>\n",
              "      <th>STD RMSE</th>\n",
              "      <th>MAE</th>\n",
              "      <th>STD MAE</th>\n",
              "    </tr>\n",
              "  </thead>\n",
              "  <tbody>\n",
              "    <tr>\n",
              "      <th>12</th>\n",
              "      <td>NL</td>\n",
              "      <td>class</td>\n",
              "      <td>XGB Regressor</td>\n",
              "      <td>0.005059</td>\n",
              "      <td>0.004302</td>\n",
              "      <td>0.00368</td>\n",
              "      <td>0.003014</td>\n",
              "    </tr>\n",
              "  </tbody>\n",
              "</table>\n",
              "</div>"
            ],
            "text/plain": [
              "   Metric  Level          Model      RMSE  STD RMSE      MAE   STD MAE\n",
              "12     NL  class  XGB Regressor  0.005059  0.004302  0.00368  0.003014"
            ]
          },
          "metadata": {},
          "execution_count": 12
        }
      ]
    },
    {
      "cell_type": "code",
      "metadata": {
        "id": "OTfVQKAKXWwR"
      },
      "source": [
        ""
      ],
      "execution_count": null,
      "outputs": []
    }
  ]
}