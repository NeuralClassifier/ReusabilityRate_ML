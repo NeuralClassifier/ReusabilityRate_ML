{
  "nbformat": 4,
  "nbformat_minor": 0,
  "metadata": {
    "colab": {
      "name": "CMPUT_663_ReuseRate_ML",
      "provenance": [],
      "authorship_tag": "ABX9TyMh8eebxPTWRkFWhgyKTUZy",
      "include_colab_link": true
    },
    "kernelspec": {
      "name": "python3",
      "display_name": "Python 3"
    },
    "language_info": {
      "name": "python"
    }
  },
  "cells": [
    {
      "cell_type": "markdown",
      "metadata": {
        "id": "view-in-github",
        "colab_type": "text"
      },
      "source": [
        "<a href=\"https://colab.research.google.com/github/NeuralClassifier/ReusabilityRate_ML/blob/main/CMPUT_663_ReuseRate_ML.ipynb\" target=\"_parent\"><img src=\"https://colab.research.google.com/assets/colab-badge.svg\" alt=\"Open In Colab\"/></a>"
      ]
    },
    {
      "cell_type": "code",
      "metadata": {
        "id": "4AwX7NeJJMGR"
      },
      "source": [
        "import pandas as pd\n",
        "import numpy as np\n",
        "\n",
        "from sklearn.neural_network import MLPRegressor\n",
        "from sklearn.linear_model import  LogisticRegression\n",
        "from sklearn.linear_model import BayesianRidge\n",
        "from sklearn.linear_model import SGDRegressor\n",
        "from xgboost import XGBRegressor\n",
        "from sklearn.tree import DecisionTreeRegressor\n",
        "\n",
        "from sklearn.preprocessing import MinMaxScaler\n",
        "from sklearn.model_selection import KFold "
      ],
      "execution_count": 1,
      "outputs": []
    },
    {
      "cell_type": "code",
      "metadata": {
        "id": "yYhNw2ytM6Qa",
        "outputId": "588067ae-4e08-48d9-d2a5-e64b05de1614",
        "colab": {
          "base_uri": "https://localhost:8080/"
        }
      },
      "source": [
        "!git clone https://github.com/NeuralClassifier/ReusabilityRate_ML"
      ],
      "execution_count": 5,
      "outputs": [
        {
          "output_type": "stream",
          "name": "stdout",
          "text": [
            "Cloning into 'ReusabilityRate_ML'...\n",
            "remote: Enumerating objects: 11, done.\u001b[K\n",
            "remote: Counting objects: 100% (11/11), done.\u001b[K\n",
            "remote: Compressing objects: 100% (9/9), done.\u001b[K\n",
            "remote: Total 11 (delta 1), reused 0 (delta 0), pack-reused 0\u001b[K\n",
            "Unpacking objects: 100% (11/11), done.\n"
          ]
        }
      ]
    },
    {
      "cell_type": "code",
      "metadata": {
        "id": "Jg0SWfgoJUJB",
        "outputId": "897a3c57-6abf-491b-e472-d24be9709314",
        "colab": {
          "base_uri": "https://localhost:8080/",
          "height": 419
        }
      },
      "source": [
        "pd.read_csv('/content/ReusabilityRate_ML/packages.csv',error_bad_lines=False)"
      ],
      "execution_count": 8,
      "outputs": [
        {
          "output_type": "execute_result",
          "data": {
            "text/html": [
              "<div>\n",
              "<style scoped>\n",
              "    .dataframe tbody tr th:only-of-type {\n",
              "        vertical-align: middle;\n",
              "    }\n",
              "\n",
              "    .dataframe tbody tr th {\n",
              "        vertical-align: top;\n",
              "    }\n",
              "\n",
              "    .dataframe thead th {\n",
              "        text-align: right;\n",
              "    }\n",
              "</style>\n",
              "<table border=\"1\" class=\"dataframe\">\n",
              "  <thead>\n",
              "    <tr style=\"text-align: right;\">\n",
              "      <th></th>\n",
              "      <th>;Project;LongName;Name;AD;CD;TCD;CLOC;TCLOC;PDA;TPDA;LLOC;LOC;TLOC;NG;TLLOC;TNA;TNG;TNM;TNOS;TNPM;NCL;ReuseRate</th>\n",
              "    </tr>\n",
              "  </thead>\n",
              "  <tbody>\n",
              "    <tr>\n",
              "      <th>0</th>\n",
              "      <td>0;ch.qos.logback/logback-classic;&lt;root_package...</td>\n",
              "    </tr>\n",
              "    <tr>\n",
              "      <th>1</th>\n",
              "      <td>1;ch.qos.logback/logback-classic;ch;ch;0.0;0.0...</td>\n",
              "    </tr>\n",
              "    <tr>\n",
              "      <th>2</th>\n",
              "      <td>2;ch.qos.logback/logback-classic;unnamed packa...</td>\n",
              "    </tr>\n",
              "    <tr>\n",
              "      <th>3</th>\n",
              "      <td>3;ch.qos.logback/logback-classic;ch.qos;qos;0....</td>\n",
              "    </tr>\n",
              "    <tr>\n",
              "      <th>4</th>\n",
              "      <td>4;ch.qos.logback/logback-classic;ch.qos.logbac...</td>\n",
              "    </tr>\n",
              "    <tr>\n",
              "      <th>...</th>\n",
              "      <td>...</td>\n",
              "    </tr>\n",
              "    <tr>\n",
              "      <th>2188</th>\n",
              "      <td>2188;xerces/xercesImpl;org.apache.xerces.impl....</td>\n",
              "    </tr>\n",
              "    <tr>\n",
              "      <th>2189</th>\n",
              "      <td>2189;xerces/xercesImpl;org.apache.xerces.impl....</td>\n",
              "    </tr>\n",
              "    <tr>\n",
              "      <th>2190</th>\n",
              "      <td>2190;xerces/xercesImpl;org.apache.xerces.impl....</td>\n",
              "    </tr>\n",
              "    <tr>\n",
              "      <th>2191</th>\n",
              "      <td>2191;xerces/xercesImpl;org.apache.xerces.impl....</td>\n",
              "    </tr>\n",
              "    <tr>\n",
              "      <th>2192</th>\n",
              "      <td>2192;xerces/xercesImpl;org.apache.xerces.impl....</td>\n",
              "    </tr>\n",
              "  </tbody>\n",
              "</table>\n",
              "<p>2193 rows × 1 columns</p>\n",
              "</div>"
            ],
            "text/plain": [
              "     ;Project;LongName;Name;AD;CD;TCD;CLOC;TCLOC;PDA;TPDA;LLOC;LOC;TLOC;NG;TLLOC;TNA;TNG;TNM;TNOS;TNPM;NCL;ReuseRate\n",
              "0     0;ch.qos.logback/logback-classic;<root_package...                                                             \n",
              "1     1;ch.qos.logback/logback-classic;ch;ch;0.0;0.0...                                                             \n",
              "2     2;ch.qos.logback/logback-classic;unnamed packa...                                                             \n",
              "3     3;ch.qos.logback/logback-classic;ch.qos;qos;0....                                                             \n",
              "4     4;ch.qos.logback/logback-classic;ch.qos.logbac...                                                             \n",
              "...                                                 ...                                                             \n",
              "2188  2188;xerces/xercesImpl;org.apache.xerces.impl....                                                             \n",
              "2189  2189;xerces/xercesImpl;org.apache.xerces.impl....                                                             \n",
              "2190  2190;xerces/xercesImpl;org.apache.xerces.impl....                                                             \n",
              "2191  2191;xerces/xercesImpl;org.apache.xerces.impl....                                                             \n",
              "2192  2192;xerces/xercesImpl;org.apache.xerces.impl....                                                             \n",
              "\n",
              "[2193 rows x 1 columns]"
            ]
          },
          "metadata": {},
          "execution_count": 8
        }
      ]
    },
    {
      "cell_type": "code",
      "metadata": {
        "id": "ss5FfUVpLxbN"
      },
      "source": [
        ""
      ],
      "execution_count": null,
      "outputs": []
    }
  ]
}