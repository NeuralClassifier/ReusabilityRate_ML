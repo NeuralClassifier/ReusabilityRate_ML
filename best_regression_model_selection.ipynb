{
 "nbformat": 4,
 "nbformat_minor": 0,
 "metadata": {
  "colab": {
   "name": "SelectingTheBestModel",
   "provenance": [],
   "include_colab_link": true
  },
  "kernelspec": {
   "name": "python3",
   "display_name": "Python 3"
  },
  "language_info": {
   "name": "python"
  }
 },
 "cells": [
  {
   "cell_type": "markdown",
   "metadata": {
    "id": "view-in-github",
    "colab_type": "text"
   },
   "source": [
    "<a href=\"https://colab.research.google.com/github/NeuralClassifier/ReusabilityRate_ML/blob/main/SelectingTheBestModel.ipynb\" target=\"_parent\"><img src=\"https://colab.research.google.com/assets/colab-badge.svg\" alt=\"Open In Colab\"/></a>"
   ]
  },
  {
   "cell_type": "code",
   "execution_count": null,
   "outputs": [],
   "source": [
    "!pip install -U scikit-learn==1.0.1\n",
    "!pip install -U tensorflow==2.7.0\n",
    "!pip install -U seaborn==0.11.2\n",
    "!pip install -U matplotlib==3.5.0\n",
    "!pip install -U pandas==1.3.4"
   ],
   "metadata": {
    "collapsed": false,
    "pycharm": {
     "name": "#%%\n"
    }
   }
  },
  {
   "cell_type": "code",
   "metadata": {
    "id": "ZY028_MLP52N"
   },
   "source": [
    "import numpy as np\n",
    "import pandas as pd\n",
    "import warnings\n",
    "from collections import Counter\n",
    "import matplotlib.pyplot as plt"
   ],
   "execution_count": 26,
   "outputs": []
  },
  {
   "cell_type": "code",
   "metadata": {
    "colab": {
     "base_uri": "https://localhost:8080/"
    },
    "id": "MeURpsAYQYHK",
    "outputId": "e7bcec5d-6bea-45e5-fa07-4f9fca69cc30"
   },
   "source": [
    "!git clone https://github.com/NeuralClassifier/ReusabilityRate_ML"
   ],
   "execution_count": 2,
   "outputs": [
    {
     "output_type": "stream",
     "name": "stdout",
     "text": [
      "Cloning into 'ReusabilityRate_ML'...\n",
      "remote: <html>\n",
      "remote: <head><title>404 Not Found</title></head>\n",
      "remote: <body>\n",
      "remote: <center><h1>404 Not Found</h1></center>\n",
      "remote: <hr><center>nginx</center>\n",
      "remote: </body>\n",
      "remote: </html>\n",
      "fatal: unable to access 'https://github.com/NeuralClassifier/ReusabilityRate_ML/': The requested URL returned error: 504\n"
     ]
    }
   ]
  },
  {
   "cell_type": "code",
   "metadata": {
    "id": "J9O-C4KUQtTz"
   },
   "source": [
    "warnings.filterwarnings('ignore')\n",
    "class SelectBest:\n",
    "  def __init__(self,dfname):\n",
    "    if dfname.lower() == 'class':\n",
    "      self.df = pd.read_excel('Results/classRes_TraditionalModels_refined.xlsx')\n",
    "      self.df.drop(['Unnamed: 0'],axis =1, inplace=True)\n",
    "      self.list_of_metrics = list(self.df['Metric'].unique())\n",
    "      self.level='class'\n",
    "    elif dfname.lower() == 'package':\n",
    "\n",
    "      self.df = pd.read_excel('Results/packageRes_TraditionalModels_refined.xlsx')\n",
    "      self.df.drop(['Unnamed: 0'],axis =1, inplace=True)\n",
    "      self.list_of_metrics = list(self.df['Metric'].unique())\n",
    "      self.level='package'\n",
    "    else:\n",
    "      print('wrong input!! Try again :)')\n",
    "\n",
    "  def best_model(self,metrics):\n",
    "\n",
    "    #if dfname.lower() == 'class':\n",
    "      #df = pd.read_excel('Results/classRes_TraditionalModels.xlsx')\n",
    "      #df.drop(['Unnamed: 0'],axis =1, inplace=True)\n",
    "      #list_of_metrics = list(df['Metric'].unique())\n",
    "      \n",
    "    if metrics.lower() == 'rmse':\n",
    "  \n",
    "      best_model = []\n",
    "      for i in self.list_of_metrics:\n",
    "        df_temp = self.df[self.df['Metric']==i]\n",
    "        best_idx = df_temp[df_temp.RMSE == df_temp.RMSE.min()].index[0]\n",
    "        bestModel = self.df.iloc[best_idx,2]\n",
    "        best_model.append(['RMSE',i,bestModel])\n",
    "\n",
    "      return best_model\n",
    "\n",
    "    elif metrics.lower() == 'mae':\n",
    "\n",
    "      best_model = []\n",
    "      for i in self.list_of_metrics:\n",
    "        df_temp = self.df[self.df['Metric']==i]\n",
    "        best_idx = df_temp[df_temp.MAE == df_temp.MAE.min()].index[0]\n",
    "        bestModel = self.df.iloc[best_idx,2]\n",
    "        best_model.append(['MAE',i,bestModel])\n",
    "\n",
    "      return best_model\n",
    "\n",
    "    else:\n",
    "      print('wrong input!! Try again :)')\n",
    "\n",
    "    #elif dfname.lower() == 'package':\n",
    "\n",
    "      #df = pd.read_excel('Results/packageRes_TraditionalModels.xlsx')\n",
    "      #df.drop(['Unnamed: 0'],axis =1, inplace=True)\n",
    "      #list_of_metrics = list(df['Metric'].unique())\n",
    "\n",
    "    if metrics.lower() == 'rmse':\n",
    "      best_model = []\n",
    "      for i in self.list_of_metrics:\n",
    "        df_temp = self.df[self.df['Metric']==i]\n",
    "        best_idx = df_temp[df_temp.RMSE == df_temp.RMSE.min()].index[0]\n",
    "        bestModel = self.df.iloc[best_idx,2]\n",
    "        best_model.append(['RMSE',i,bestModel])\n",
    "\n",
    "      return best_model\n",
    "      \n",
    "    elif metrics.lower() == 'mae':\n",
    "      best_model = []\n",
    "      for i in self.list_of_metrics:\n",
    "        df_temp = self.df[self.df['Metric']==i]\n",
    "        best_idx = df_temp[df_temp.MAE == df_temp.MAE.min()].index[0]\n",
    "        bestModel = self.df.iloc[best_idx,2]\n",
    "        best_model.append(['MAE',i,bestModel])\n",
    "\n",
    "      return best_model\n",
    "      \n",
    "    else:\n",
    "      print('wrong input!! Try again :)')\n",
    "\n",
    "      #return list_of_metrics\n",
    "\n",
    "    #else:\n",
    "      #print('wrong input!! Try again :)')\n",
    "  def best_metric(self,measure):\n",
    "    avg_score = []\n",
    "    for i in self.list_of_metrics:\n",
    "      df_temp = self.df[self.df['Metric']==i]\n",
    "      avg = df_temp.RMSE.mean()\n",
    "      avg_score.append([i,avg])\n",
    "    #return min(avg_score)\n",
    "    avg_score = np.array(avg_score)\n",
    "    metric_name=''\n",
    "    min_value=100000000000000000000001010101010101010101010\n",
    "    for i in avg_score:\n",
    "      if float(i[1])<min_value:\n",
    "        metric_name = i[0]\n",
    "        min_value = float(i[1])\n",
    "    print('Best Metric: ', metric_name, 'Avg Score: ', min_value)\n",
    "    #return avg_score\n",
    "    choice_to_show = input('You want to see the average scores for each metric (Y/N): ')\n",
    "    if choice_to_show.lower() == 'y':\n",
    "      print(avg_score)\n",
    "  \n",
    "  def plot_best_model(self,metric):\n",
    "    \n",
    "    D = self.best_model(metric)\n",
    "    D = list(np.array(D)[:,2])\n",
    "    D = Counter(D)\n",
    "    plt.bar(range(len(D)), list(D.values()), align='center')\n",
    "    plt.xticks(range(len(D)), list(D.keys()))\n",
    "    #plt.savefig('BestModel_Plots/bestModels_'+self.level.lower()+'Level_'+metric+'.png')\n",
    "    plt.show()"
   ],
   "execution_count": 52,
   "outputs": []
  },
  {
   "cell_type": "code",
   "metadata": {
    "colab": {
     "base_uri": "https://localhost:8080/"
    },
    "id": "AD4PcVEZQ5cr",
    "outputId": "e72729e1-2c10-4a5b-fb99-dc040cf025ba"
   },
   "source": [
    "sb = SelectBest('Class')\n",
    "svg_arr=sb.best_metric('RMSE')"
   ],
   "execution_count": 53,
   "outputs": [
    {
     "name": "stdout",
     "output_type": "stream",
     "text": [
      "Best Metric:  NL Avg Score:  0.020645023941153116\n",
      "You want to see the average scores for each metric (Y/N): \n"
     ]
    }
   ]
  },
  {
   "cell_type": "code",
   "metadata": {
    "id": "8QvAkOZ_rCzp",
    "outputId": "ea721241-1ba1-4e02-a6d2-3a1b403ad8d2",
    "colab": {
     "base_uri": "https://localhost:8080/",
     "height": 265
    }
   },
   "source": [
    "sb.plot_best_model('mae')"
   ],
   "execution_count": 54,
   "outputs": [
    {
     "output_type": "display_data",
     "data": {
      "image/png": "[encoded data removed]",
      "text/plain": [
       "<Figure size 432x288 with 1 Axes>"
      ]
     },
     "metadata": {
      "needs_background": "light"
     }
    }
   ]
  },
  {
   "cell_type": "code",
   "metadata": {
    "id": "aGv3sLsZmopA"
   },
   "source": [
    ""
   ],
   "execution_count": 54,
   "outputs": []
  },
  {
   "cell_type": "code",
   "metadata": {
    "id": "dZ4ouoKbndAY"
   },
   "source": [
    ""
   ],
   "execution_count": 54,
   "outputs": []
  },
  {
   "cell_type": "code",
   "metadata": {
    "id": "3K8CdROnnvug"
   },
   "source": [
    ""
   ],
   "execution_count": null,
   "outputs": []
  }
 ]
}