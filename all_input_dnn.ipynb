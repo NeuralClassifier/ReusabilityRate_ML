{
  "nbformat": 4,
  "nbformat_minor": 0,
  "metadata": {
    "colab": {
      "name": "all_input_dnn.ipynb",
      "provenance": []
    },
    "kernelspec": {
      "name": "python3",
      "display_name": "Python 3"
    },
    "language_info": {
      "name": "python"
    }
  },
  "cells": [
    {
      "cell_type": "markdown",
      "metadata": {
        "id": "niAd-DB0VoTX"
      },
      "source": [
        "## Reqs"
      ]
    },
    {
      "cell_type": "code",
      "metadata": {
        "id": "lREROh-YV7QE",
        "colab": {
          "base_uri": "https://localhost:8080/"
        },
        "outputId": "1c0f3552-1987-4ce9-b09e-f94b8c00e629"
      },
      "source": [
        "from google.colab import drive\n",
        "drive.mount('/content/drive')"
      ],
      "execution_count": null,
      "outputs": [
        {
          "output_type": "stream",
          "name": "stdout",
          "text": [
            "Drive already mounted at /content/drive; to attempt to forcibly remount, call drive.mount(\"/content/drive\", force_remount=True).\n"
          ]
        }
      ]
    },
    {
      "cell_type": "code",
      "metadata": {
        "id": "-9m7LcF9WErj",
        "colab": {
          "base_uri": "https://localhost:8080/"
        },
        "outputId": "cdf7b108-954c-44c0-f7b1-17ff93a89cf2"
      },
      "source": [
        "# !git clone https://github.com/NeuralClassifier/ReusabilityRate_ML\n",
        "# !git checkout corr_analysis\n",
        "%cd /content/ReusabilityRate_ML/DataSets"
      ],
      "execution_count": null,
      "outputs": [
        {
          "output_type": "stream",
          "name": "stdout",
          "text": [
            "/content/ReusabilityRate_ML/DataSets\n"
          ]
        }
      ]
    },
    {
      "cell_type": "code",
      "metadata": {
        "id": "8L9SOrFdVjrI"
      },
      "source": [
        "import pandas as pd\n",
        "import numpy as np\n",
        "\n",
        "\n",
        "from sklearn.preprocessing import MinMaxScaler\n",
        "from sklearn.model_selection import KFold \n",
        "from sklearn.metrics import mean_absolute_error \n",
        "from sklearn.metrics import mean_squared_error\n",
        "from sklearn.preprocessing import StandardScaler\n",
        "import statistics\n",
        "import tensorflow as tf\n",
        "\n",
        "import warnings\n",
        "pd.plotting.register_matplotlib_converters()\n",
        "import matplotlib.pyplot as plt\n",
        "%matplotlib inline\n",
        "import seaborn as sns"
      ],
      "execution_count": null,
      "outputs": []
    },
    {
      "cell_type": "markdown",
      "metadata": {
        "id": "o5ll3IsmWdzx"
      },
      "source": [
        "### Read class and package metrics(x:inputs) and RR(y:label)"
      ]
    },
    {
      "cell_type": "code",
      "metadata": {
        "id": "pdqaGed7WP35"
      },
      "source": [
        "cls_df = pd.read_excel('classes.xlsx')\n",
        "pkg_df = pd.read_excel('packages.xlsx')\n",
        "cls_df.drop(['Unnamed: 0'], axis=1, inplace=True)\n",
        "pkg_df.drop(['Unnamed: 0'], axis=1, inplace=True)"
      ],
      "execution_count": null,
      "outputs": []
    },
    {
      "cell_type": "markdown",
      "metadata": {
        "id": "Y0K3nWh_VpUf"
      },
      "source": [
        "## Class DNN"
      ]
    },
    {
      "cell_type": "markdown",
      "metadata": {
        "id": "v-Do9iLiXH-9"
      },
      "source": [
        "### Load data"
      ]
    },
    {
      "cell_type": "code",
      "metadata": {
        "id": "Pe0kNtzAVm5x"
      },
      "source": [
        "target_scaler = MinMaxScaler(feature_range=(-10, 10))\n",
        "data = cls_df\n",
        "df = data.iloc[:,3:-1]\n",
        "data_columns = df.columns\n",
        "X_np = np.array(df)\n",
        "target_scaler.fit(X_np)\n",
        "X = X_np\n",
        "#X = target_scaler.transform(X_np)\n",
        "\n",
        "Y = data.iloc[:,-1]\n",
        "Y = Y.values.reshape(-1, 1)\n",
        "#target_scaler = MinMaxScaler(feature_range=(-10, 10))\n",
        "#target_scaler.fit(Y)\n",
        "#Y = target_scaler.transform(Y)"
      ],
      "execution_count": null,
      "outputs": []
    },
    {
      "cell_type": "markdown",
      "metadata": {
        "id": "qbOMbAO4ideh"
      },
      "source": [
        "### Training data preparation "
      ]
    },
    {
      "cell_type": "code",
      "metadata": {
        "id": "8kbRzMLmfI1G"
      },
      "source": [
        "#indexes = np.arange(len(X))\n",
        "splitter = int(len(X) * .8)\n",
        "X_train = X[:splitter]\n",
        "Y_train = Y[:splitter]\n",
        "X_val = X[splitter:]\n",
        "Y_val = Y[splitter:]"
      ],
      "execution_count": null,
      "outputs": []
    },
    {
      "cell_type": "code",
      "metadata": {
        "id": "zzLMFnPi94Nj"
      },
      "source": [
        ""
      ],
      "execution_count": null,
      "outputs": []
    },
    {
      "cell_type": "markdown",
      "metadata": {
        "id": "pBOVUH0YW_HW"
      },
      "source": [
        "### Train model"
      ]
    },
    {
      "cell_type": "code",
      "metadata": {
        "id": "MYsVRaQmXBZ8"
      },
      "source": [
        "##model\n",
        "\n",
        "def my_model_fully_connected(loss_fn, ishape = 27, lr = 1e-2):\n",
        "    model_input = tf.keras.layers.Input(shape = ishape)\n",
        "    l2 = tf.keras.layers.Dense(20, activation = 'sigmoid')(model_input)\n",
        "    l2_drop = tf.keras.layers.Dropout(0.05)(l2)\n",
        "    l3 = tf.keras.layers.Dense(20, activation = 'sigmoid')(l2_drop) \n",
        "    l4 = tf.keras.layers.Dense(5, activation = 'sigmoid')(l3)\n",
        "    out= tf.keras.layers.Dense(1, activation = 'relu')(l4)\n",
        "    model = tf.keras.models.Model(inputs = model_input, outputs = out)\n",
        "    model.compile(optimizer='adam', loss='binary_crossentropy', metrics = [\"accuracy\"])\n",
        "    return model\n",
        "\n",
        "loss_fn = tf.keras.losses.MeanSquaredError()\n",
        "model = my_model_fully_connected(loss_fn, ishape=len(X_train[0]), lr= 0.1)\n",
        "print(model.summary())\n"
      ],
      "execution_count": null,
      "outputs": []
    },
    {
      "cell_type": "code",
      "metadata": {
        "id": "0GlbWYmXDLEh"
      },
      "source": [
        "Y_train[0:20]"
      ],
      "execution_count": null,
      "outputs": []
    },
    {
      "cell_type": "code",
      "metadata": {
        "id": "NrIO_556XC9Y"
      },
      "source": [
        "# Call backs \n",
        "model_name_fcn = \"First_draft.h5\"\n",
        "early_stop = tf.keras.callbacks.EarlyStopping(monitor='val_loss', patience = 20)\n",
        "\n",
        "monitor = tf.keras.callbacks.ModelCheckpoint(model_name_fcn, monitor='val_loss',\\\n",
        "                                             verbose=0, save_best_only=True,\\\n",
        "                                             save_weights_only=True,\\\n",
        "                                             mode='min')\n",
        "# Learning rate schedule\n",
        "def scheduler(epoch, lr):\n",
        "    if epoch%10 == 0:\n",
        "        lr = lr/2\n",
        "    return lr\n",
        "\n",
        "lr_schedule = tf.keras.callbacks.LearningRateScheduler(scheduler, verbose = 0)"
      ],
      "execution_count": null,
      "outputs": []
    },
    {
      "cell_type": "code",
      "metadata": {
        "colab": {
          "base_uri": "https://localhost:8080/"
        },
        "id": "dQK6eaFC47Mt",
        "outputId": "932defac-16be-4f59-8ac7-791988987393"
      },
      "source": [
        "# Train\n",
        "model.fit(X_train, Y_train, epochs = 100, batch_size=200, \\\n",
        "          verbose = 1, callbacks= [early_stop, monitor, lr_schedule], validation_data= (X_val, Y_val))"
      ],
      "execution_count": null,
      "outputs": [
        {
          "output_type": "stream",
          "name": "stdout",
          "text": [
            "Epoch 1/100\n",
            "100/100 [==============================] - 1s 4ms/step - loss: -27.8684 - accuracy: 0.5083 - val_loss: -44.0212 - val_accuracy: 0.1972 - lr: 5.0000e-04\n",
            "Epoch 2/100\n",
            "100/100 [==============================] - 0s 3ms/step - loss: -49.6527 - accuracy: 0.4136 - val_loss: -44.1544 - val_accuracy: 0.4211 - lr: 5.0000e-04\n",
            "Epoch 3/100\n",
            "100/100 [==============================] - 0s 3ms/step - loss: -50.7730 - accuracy: 0.4968 - val_loss: -44.6069 - val_accuracy: 0.2632 - lr: 5.0000e-04\n",
            "Epoch 4/100\n",
            "100/100 [==============================] - 0s 3ms/step - loss: -52.7089 - accuracy: 0.4656 - val_loss: -45.0806 - val_accuracy: 0.3077 - lr: 5.0000e-04\n",
            "Epoch 5/100\n",
            "100/100 [==============================] - 0s 3ms/step - loss: -51.8382 - accuracy: 0.4790 - val_loss: -44.7404 - val_accuracy: 0.2680 - lr: 5.0000e-04\n",
            "Epoch 6/100\n",
            "100/100 [==============================] - 0s 3ms/step - loss: -55.1378 - accuracy: 0.3982 - val_loss: -44.2041 - val_accuracy: 0.2259 - lr: 5.0000e-04\n",
            "Epoch 7/100\n",
            "100/100 [==============================] - 0s 3ms/step - loss: -48.0165 - accuracy: 0.4174 - val_loss: -44.3125 - val_accuracy: 0.2406 - lr: 5.0000e-04\n",
            "Epoch 8/100\n",
            "100/100 [==============================] - 0s 3ms/step - loss: -54.4619 - accuracy: 0.4020 - val_loss: -44.1282 - val_accuracy: 0.2244 - lr: 5.0000e-04\n",
            "Epoch 9/100\n",
            "100/100 [==============================] - 0s 3ms/step - loss: -54.8585 - accuracy: 0.4048 - val_loss: -44.1503 - val_accuracy: 0.2303 - lr: 5.0000e-04\n",
            "Epoch 10/100\n",
            "100/100 [==============================] - 0s 3ms/step - loss: -53.8822 - accuracy: 0.3578 - val_loss: -44.2794 - val_accuracy: 0.2390 - lr: 5.0000e-04\n",
            "Epoch 11/100\n",
            "100/100 [==============================] - 0s 3ms/step - loss: -54.8825 - accuracy: 0.4237 - val_loss: -44.4245 - val_accuracy: 0.2503 - lr: 2.5000e-04\n",
            "Epoch 12/100\n",
            "100/100 [==============================] - 0s 3ms/step - loss: -55.0851 - accuracy: 0.4231 - val_loss: -44.2078 - val_accuracy: 0.2279 - lr: 2.5000e-04\n",
            "Epoch 13/100\n",
            "100/100 [==============================] - 0s 3ms/step - loss: -54.9906 - accuracy: 0.3652 - val_loss: -43.5104 - val_accuracy: 0.1752 - lr: 2.5000e-04\n",
            "Epoch 14/100\n",
            "100/100 [==============================] - 0s 3ms/step - loss: -55.5210 - accuracy: 0.3275 - val_loss: -43.7090 - val_accuracy: 0.1904 - lr: 2.5000e-04\n",
            "Epoch 15/100\n",
            "100/100 [==============================] - 0s 3ms/step - loss: -55.0255 - accuracy: 0.3467 - val_loss: -43.8473 - val_accuracy: 0.2035 - lr: 2.5000e-04\n",
            "Epoch 16/100\n",
            "100/100 [==============================] - 0s 3ms/step - loss: -56.0074 - accuracy: 0.3796 - val_loss: -44.0536 - val_accuracy: 0.2162 - lr: 2.5000e-04\n",
            "Epoch 17/100\n",
            "100/100 [==============================] - 0s 3ms/step - loss: -55.8658 - accuracy: 0.3872 - val_loss: -44.2155 - val_accuracy: 0.2285 - lr: 2.5000e-04\n",
            "Epoch 18/100\n",
            "100/100 [==============================] - 0s 3ms/step - loss: -56.1134 - accuracy: 0.3823 - val_loss: -44.0160 - val_accuracy: 0.2140 - lr: 2.5000e-04\n",
            "Epoch 19/100\n",
            "100/100 [==============================] - 0s 3ms/step - loss: -55.9200 - accuracy: 0.3697 - val_loss: -43.8385 - val_accuracy: 0.2017 - lr: 2.5000e-04\n",
            "Epoch 20/100\n",
            "100/100 [==============================] - 0s 3ms/step - loss: -55.3585 - accuracy: 0.3907 - val_loss: -43.8661 - val_accuracy: 0.2045 - lr: 2.5000e-04\n",
            "Epoch 21/100\n",
            "100/100 [==============================] - 0s 3ms/step - loss: -55.8444 - accuracy: 0.3652 - val_loss: -43.8126 - val_accuracy: 0.2013 - lr: 1.2500e-04\n",
            "Epoch 22/100\n",
            "100/100 [==============================] - 0s 3ms/step - loss: -56.0202 - accuracy: 0.3676 - val_loss: -43.8516 - val_accuracy: 0.2041 - lr: 1.2500e-04\n",
            "Epoch 23/100\n",
            "100/100 [==============================] - 0s 3ms/step - loss: -56.1915 - accuracy: 0.3713 - val_loss: -43.8864 - val_accuracy: 0.2065 - lr: 1.2500e-04\n",
            "Epoch 24/100\n",
            "100/100 [==============================] - 0s 3ms/step - loss: -56.0391 - accuracy: 0.3566 - val_loss: -43.8295 - val_accuracy: 0.2017 - lr: 1.2500e-04\n"
          ]
        },
        {
          "output_type": "execute_result",
          "data": {
            "text/plain": [
              "<keras.callbacks.History at 0x7f090bab7c10>"
            ]
          },
          "metadata": {},
          "execution_count": 106
        }
      ]
    },
    {
      "cell_type": "code",
      "metadata": {
        "colab": {
          "base_uri": "https://localhost:8080/"
        },
        "id": "sq6EldoEMQNW",
        "outputId": "bd93a917-e2a1-4bf4-a0ba-df4129b3f6d7"
      },
      "source": [
        "print(str(len(X_train[0])))\n",
        "[model.predict(X_train[3].reshape([1,27])), Y_train[0]]"
      ],
      "execution_count": null,
      "outputs": [
        {
          "output_type": "stream",
          "name": "stdout",
          "text": [
            "27\n"
          ]
        },
        {
          "output_type": "execute_result",
          "data": {
            "text/plain": [
              "[array([[0.]], dtype=float32), array([6])]"
            ]
          },
          "metadata": {},
          "execution_count": 95
        }
      ]
    },
    {
      "cell_type": "markdown",
      "metadata": {
        "id": "hyd2aa8mVrfi"
      },
      "source": [
        "## Package DNN"
      ]
    },
    {
      "cell_type": "markdown",
      "metadata": {
        "id": "GH5nhMPMXYRz"
      },
      "source": [
        "### Load data"
      ]
    },
    {
      "cell_type": "code",
      "metadata": {
        "id": "RLf0gtbvWxKC"
      },
      "source": [
        "target_scaler = MinMaxScaler()\n",
        "data = pkg_df\n",
        "df = data.iloc[:,3:-1]\n",
        "data_columns = df.columns\n",
        "X_np = np.array(df)\n",
        "target_scaler.fit(X_np)\n",
        "X = target_scaler.transform(X_np)\n",
        "\n",
        "Y = data.iloc[:,-1]\n",
        "Y = Y.values.reshape(-1, 1)\n",
        "target_scaler = MinMaxScaler()\n",
        "target_scaler.fit(Y)\n",
        "Y = target_scaler.transform(Y)\n"
      ],
      "execution_count": null,
      "outputs": []
    },
    {
      "cell_type": "markdown",
      "metadata": {
        "id": "R9tAB9YCXZ8p"
      },
      "source": [
        "### Train model"
      ]
    },
    {
      "cell_type": "code",
      "metadata": {
        "id": "0VJVOdnxXcFJ"
      },
      "source": [
        "## Train model"
      ],
      "execution_count": null,
      "outputs": []
    },
    {
      "cell_type": "code",
      "metadata": {
        "id": "MSG14H0HXdbP"
      },
      "source": [
        "## Test model"
      ],
      "execution_count": null,
      "outputs": []
    }
  ]
}