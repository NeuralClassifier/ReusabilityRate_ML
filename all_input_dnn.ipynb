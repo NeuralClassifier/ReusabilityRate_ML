{
 "nbformat": 4,
 "nbformat_minor": 0,
 "metadata": {
  "colab": {
   "name": "all_input_dnn.ipynb",
   "provenance": [],
   "machine_shape": "hm"
  },
  "kernelspec": {
   "name": "python3",
   "display_name": "Python 3"
  },
  "language_info": {
   "name": "python"
  },
  "accelerator": "GPU"
 },
 "cells": [
  {
   "cell_type": "markdown",
   "metadata": {
    "id": "niAd-DB0VoTX"
   },
   "source": [
    "## Reqs"
   ]
  },
  {
   "cell_type": "code",
   "execution_count": null,
   "outputs": [],
   "source": [
    "!pip install -U scikit-learn==1.0.1\n",
    "!git install -U tensorflow==2.7.0\n",
    "!pip install -U seaborn==0.11.2\n",
    "!pip install -U matplotlib==3.5.0\n",
    "!pip install -U pandas==1.3.4\n",
    "%cd DataSets"
   ],
   "metadata": {
    "collapsed": false,
    "pycharm": {
     "name": "#%%\n"
    }
   }
  },
  {
   "cell_type": "code",
   "execution_count": null,
   "outputs": [],
   "source": [
    "import pandas as pd\n",
    "import numpy as np\n",
    "\n",
    "\n",
    "from sklearn.preprocessing import MinMaxScaler\n",
    "from sklearn.model_selection import KFold \n",
    "from sklearn.metrics import mean_absolute_error \n",
    "from sklearn.metrics import mean_squared_error\n",
    "from sklearn.preprocessing import StandardScaler\n",
    "import statistics\n",
    "import tensorflow as tf\n",
    "\n",
    "import warnings\n",
    "pd.plotting.register_matplotlib_converters()\n",
    "import matplotlib.pyplot as plt\n",
    "%matplotlib inline\n",
    "import seaborn as sns"
   ],
   "metadata": {
    "collapsed": false,
    "pycharm": {
     "name": "#%%\n"
    }
   }
  },
  {
   "cell_type": "markdown",
   "metadata": {
    "id": "o5ll3IsmWdzx"
   },
   "source": [
    "### Read class and package metrics(x:inputs) and RR(y:label)"
   ]
  },
  {
   "cell_type": "code",
   "metadata": {
    "id": "pdqaGed7WP35"
   },
   "source": [
    "cls_df = pd.read_csv('cls_normalized.csv')\n",
    "pkg_df = pd.read_csv('pkg_normalized.csv')\n",
    "cls_df.drop(['Unnamed: 0'], axis=1, inplace=True)\n",
    "pkg_df.drop(['Unnamed: 0'], axis=1, inplace=True)"
   ],
   "execution_count": 18,
   "outputs": []
  },
  {
   "cell_type": "markdown",
   "metadata": {
    "id": "Y0K3nWh_VpUf"
   },
   "source": [
    "## Class DNN"
   ]
  },
  {
   "cell_type": "markdown",
   "metadata": {
    "id": "v-Do9iLiXH-9"
   },
   "source": [
    "### Load data"
   ]
  },
  {
   "cell_type": "code",
   "metadata": {
    "id": "Pe0kNtzAVm5x"
   },
   "source": [
    "#target_scaler = MinMaxScaler(feature_range=(-10, 10))\n",
    "data = cls_df\n",
    "df = data.iloc[:,3:-2]\n",
    "data_columns = df.columns\n",
    "X_np = np.array(df)\n",
    "#target_scaler.fit(X_np)\n",
    "X = X_np\n",
    "#X = target_scaler.transform(X_np)\n",
    "\n",
    "Y = data.iloc[:,-1]\n",
    "Y = Y.values.reshape(-1, 1)\n",
    "#target_scaler = MinMaxScaler(feature_range=(-10, 10))\n",
    "#target_scaler.fit(Y)\n",
    "#Y = target_scaler.transform(Y)"
   ],
   "execution_count": 33,
   "outputs": []
  },
  {
   "cell_type": "code",
   "metadata": {
    "colab": {
     "base_uri": "https://localhost:8080/"
    },
    "id": "p2MBU0tauums",
    "outputId": "487b5cd4-e9bf-4822-b195-7ccca77dbc05"
   },
   "source": [
    "len(X[0])"
   ],
   "execution_count": 38,
   "outputs": [
    {
     "output_type": "execute_result",
     "data": {
      "text/plain": [
       "27"
      ]
     },
     "metadata": {},
     "execution_count": 38
    }
   ]
  },
  {
   "cell_type": "markdown",
   "metadata": {
    "id": "qbOMbAO4ideh"
   },
   "source": [
    "### Training data preparation "
   ]
  },
  {
   "cell_type": "code",
   "metadata": {
    "id": "8kbRzMLmfI1G"
   },
   "source": [
    "#indexes = np.arange(len(X))\n",
    "splitter = int(len(X) * .8)\n",
    "X_train = X[:splitter].astype('float32')\n",
    "Y_train = Y[:splitter].astype('int32')\n",
    "X_val = X[splitter:].astype('float32')\n",
    "Y_val = Y[splitter:].astype('int32')"
   ],
   "execution_count": 51,
   "outputs": []
  },
  {
   "cell_type": "code",
   "metadata": {
    "id": "zzLMFnPi94Nj",
    "colab": {
     "base_uri": "https://localhost:8080/"
    },
    "outputId": "b93c26f3-2a65-4464-9a26-6f21530efe79"
   },
   "source": [
    "X_val"
   ],
   "execution_count": 79,
   "outputs": [
    {
     "output_type": "execute_result",
     "data": {
      "text/plain": [
       "array([[-0.9881657 , -0.75      , -0.4       , ..., -0.98737085,\n",
       "        -0.9793256 , -0.99450547],\n",
       "       [-0.9881657 , -0.75      , -0.4       , ..., -0.9965557 ,\n",
       "        -0.9906473 , -0.9958791 ],\n",
       "       [-0.9881657 , -0.9166667 , -0.8       , ..., -0.9690012 ,\n",
       "        -0.98031014, -0.9684066 ],\n",
       "       ...,\n",
       "       [-0.9881657 , -0.9166667 , -0.8       , ..., -0.9988519 ,\n",
       "        -0.99753875, -0.99862635],\n",
       "       [-0.9881657 , -1.        , -1.        , ..., -0.9988519 ,\n",
       "        -0.9995077 , -0.99862635],\n",
       "       [-0.9881657 , -1.        , -1.        , ..., -0.9988519 ,\n",
       "        -0.9995077 , -0.99862635]], dtype=float32)"
      ]
     },
     "metadata": {},
     "execution_count": 79
    }
   ]
  },
  {
   "cell_type": "markdown",
   "metadata": {
    "id": "pBOVUH0YW_HW"
   },
   "source": [
    "### Train model"
   ]
  },
  {
   "cell_type": "code",
   "metadata": {
    "id": "MYsVRaQmXBZ8",
    "colab": {
     "base_uri": "https://localhost:8080/"
    },
    "outputId": "61103e9e-b496-416e-a941-da145e04e77b"
   },
   "source": [
    "##model\n",
    "\n",
    "\n",
    "def my_model_fully_connected(loss_fn, opt, ishape = 27, lr = 1e-2):\n",
    "    model_input = tf.keras.layers.Input(shape = ishape)\n",
    "    l2 = tf.keras.layers.Dense(50, activation = 'sigmoid')(model_input)\n",
    "    l2_drop = tf.keras.layers.Dropout(0.02)(l2)\n",
    "    l3 = tf.keras.layers.Dense(25, activation = 'sigmoid')(l2_drop)\n",
    "    out= tf.keras.layers.Dense(1, activation = 'softmax')(l3)\n",
    "    model = tf.keras.models.Model(inputs = model_input, outputs = out)\n",
    "    model.compile(optimizer=opt, loss=loss_fn, metrics = [tf.keras.metrics.CategoricalAccuracy()])\n",
    "    return model\n",
    "\n",
    "lr = 0.001\n",
    "opt = 'sgd'\n",
    "loss_fn = 'mse'\n",
    "model = my_model_fully_connected(loss_fn, opt, ishape=len(X_train[0]), lr= lr)\n",
    "print(model.summary())\n"
   ],
   "execution_count": 102,
   "outputs": [
    {
     "output_type": "stream",
     "name": "stdout",
     "text": [
      "Model: \"model_22\"\n",
      "_________________________________________________________________\n",
      " Layer (type)                Output Shape              Param #   \n",
      "=================================================================\n",
      " input_24 (InputLayer)       [(None, 27)]              0         \n",
      "                                                                 \n",
      " dense_83 (Dense)            (None, 50)                1400      \n",
      "                                                                 \n",
      " dropout_23 (Dropout)        (None, 50)                0         \n",
      "                                                                 \n",
      " dense_84 (Dense)            (None, 25)                1275      \n",
      "                                                                 \n",
      " dense_85 (Dense)            (None, 1)                 26        \n",
      "                                                                 \n",
      "=================================================================\n",
      "Total params: 2,701\n",
      "Trainable params: 2,701\n",
      "Non-trainable params: 0\n",
      "_________________________________________________________________\n",
      "None\n"
     ]
    }
   ]
  },
  {
   "cell_type": "code",
   "metadata": {
    "id": "0GlbWYmXDLEh",
    "colab": {
     "base_uri": "https://localhost:8080/"
    },
    "outputId": "d54e2dbb-f39d-4e8f-bcf8-813cc65dbd65"
   },
   "source": [
    "Y_train[0:20]"
   ],
   "execution_count": 103,
   "outputs": [
    {
     "output_type": "execute_result",
     "data": {
      "text/plain": [
       "array([[4],\n",
       "       [3],\n",
       "       [4],\n",
       "       [4],\n",
       "       [4],\n",
       "       [4],\n",
       "       [4],\n",
       "       [0],\n",
       "       [2],\n",
       "       [0],\n",
       "       [0],\n",
       "       [0],\n",
       "       [0],\n",
       "       [0],\n",
       "       [4],\n",
       "       [0],\n",
       "       [4],\n",
       "       [0],\n",
       "       [0],\n",
       "       [0]], dtype=int32)"
      ]
     },
     "metadata": {},
     "execution_count": 103
    }
   ]
  },
  {
   "cell_type": "code",
   "metadata": {
    "id": "NrIO_556XC9Y"
   },
   "source": [
    "# Call backs \n",
    "model_name_fcn = \"First_draft.h5\"\n",
    "early_stop = tf.keras.callbacks.EarlyStopping(monitor='val_loss', patience = 20)\n",
    "\n",
    "monitor = tf.keras.callbacks.ModelCheckpoint(model_name_fcn, monitor='val_loss',\\\n",
    "                                             verbose=0, save_best_only=True,\\\n",
    "                                             save_weights_only=True,\\\n",
    "                                             mode='min')\n",
    "# Learning rate schedule\n",
    "def scheduler(epoch, lr):\n",
    "    if epoch%10 == 0:\n",
    "        lr = lr/2\n",
    "    return lr\n",
    "\n",
    "lr_schedule = tf.keras.callbacks.LearningRateScheduler(scheduler, verbose = 0)"
   ],
   "execution_count": 104,
   "outputs": []
  },
  {
   "cell_type": "code",
   "metadata": {
    "id": "dQK6eaFC47Mt",
    "colab": {
     "base_uri": "https://localhost:8080/"
    },
    "outputId": "3b03765b-a542-4fb9-95f4-25a77ac68501"
   },
   "source": [
    "# Train\n",
    "model.fit(X_train, Y_train, epochs = 100, batch_size=200, \\\n",
    "          verbose = 1, callbacks= [early_stop, monitor, lr_schedule], validation_data= (X_val, Y_val))"
   ],
   "execution_count": 105,
   "outputs": [
    {
     "output_type": "stream",
     "name": "stdout",
     "text": [
      "Epoch 1/100\n",
      "100/100 [==============================] - 1s 6ms/step - loss: 1.7906 - categorical_accuracy: 1.0000 - val_loss: 1.8274 - val_categorical_accuracy: 1.0000 - lr: 0.0050\n",
      "Epoch 2/100\n",
      "100/100 [==============================] - 0s 4ms/step - loss: 1.7906 - categorical_accuracy: 1.0000 - val_loss: 1.8274 - val_categorical_accuracy: 1.0000 - lr: 0.0050\n",
      "Epoch 3/100\n",
      "100/100 [==============================] - 0s 4ms/step - loss: 1.7906 - categorical_accuracy: 1.0000 - val_loss: 1.8274 - val_categorical_accuracy: 1.0000 - lr: 0.0050\n",
      "Epoch 4/100\n",
      "100/100 [==============================] - 0s 4ms/step - loss: 1.7906 - categorical_accuracy: 1.0000 - val_loss: 1.8274 - val_categorical_accuracy: 1.0000 - lr: 0.0050\n",
      "Epoch 5/100\n",
      "100/100 [==============================] - 1s 5ms/step - loss: 1.7906 - categorical_accuracy: 1.0000 - val_loss: 1.8274 - val_categorical_accuracy: 1.0000 - lr: 0.0050\n",
      "Epoch 6/100\n",
      "100/100 [==============================] - 0s 4ms/step - loss: 1.7906 - categorical_accuracy: 1.0000 - val_loss: 1.8274 - val_categorical_accuracy: 1.0000 - lr: 0.0050\n",
      "Epoch 7/100\n",
      "100/100 [==============================] - 0s 4ms/step - loss: 1.7906 - categorical_accuracy: 1.0000 - val_loss: 1.8274 - val_categorical_accuracy: 1.0000 - lr: 0.0050\n",
      "Epoch 8/100\n",
      "100/100 [==============================] - 0s 4ms/step - loss: 1.7906 - categorical_accuracy: 1.0000 - val_loss: 1.8274 - val_categorical_accuracy: 1.0000 - lr: 0.0050\n",
      "Epoch 9/100\n",
      "100/100 [==============================] - 0s 4ms/step - loss: 1.7906 - categorical_accuracy: 1.0000 - val_loss: 1.8274 - val_categorical_accuracy: 1.0000 - lr: 0.0050\n",
      "Epoch 10/100\n",
      "100/100 [==============================] - 0s 4ms/step - loss: 1.7906 - categorical_accuracy: 1.0000 - val_loss: 1.8274 - val_categorical_accuracy: 1.0000 - lr: 0.0050\n",
      "Epoch 11/100\n",
      "100/100 [==============================] - 0s 4ms/step - loss: 1.7906 - categorical_accuracy: 1.0000 - val_loss: 1.8274 - val_categorical_accuracy: 1.0000 - lr: 0.0025\n",
      "Epoch 12/100\n",
      "100/100 [==============================] - 0s 4ms/step - loss: 1.7906 - categorical_accuracy: 1.0000 - val_loss: 1.8274 - val_categorical_accuracy: 1.0000 - lr: 0.0025\n",
      "Epoch 13/100\n",
      "100/100 [==============================] - 0s 4ms/step - loss: 1.7906 - categorical_accuracy: 1.0000 - val_loss: 1.8274 - val_categorical_accuracy: 1.0000 - lr: 0.0025\n",
      "Epoch 14/100\n",
      "100/100 [==============================] - 0s 4ms/step - loss: 1.7906 - categorical_accuracy: 1.0000 - val_loss: 1.8274 - val_categorical_accuracy: 1.0000 - lr: 0.0025\n",
      "Epoch 15/100\n",
      "100/100 [==============================] - 0s 4ms/step - loss: 1.7906 - categorical_accuracy: 1.0000 - val_loss: 1.8274 - val_categorical_accuracy: 1.0000 - lr: 0.0025\n",
      "Epoch 16/100\n",
      "100/100 [==============================] - 0s 4ms/step - loss: 1.7906 - categorical_accuracy: 1.0000 - val_loss: 1.8274 - val_categorical_accuracy: 1.0000 - lr: 0.0025\n",
      "Epoch 17/100\n",
      "100/100 [==============================] - 0s 4ms/step - loss: 1.7906 - categorical_accuracy: 1.0000 - val_loss: 1.8274 - val_categorical_accuracy: 1.0000 - lr: 0.0025\n",
      "Epoch 18/100\n",
      "100/100 [==============================] - 0s 4ms/step - loss: 1.7906 - categorical_accuracy: 1.0000 - val_loss: 1.8274 - val_categorical_accuracy: 1.0000 - lr: 0.0025\n",
      "Epoch 19/100\n",
      "100/100 [==============================] - 0s 4ms/step - loss: 1.7906 - categorical_accuracy: 1.0000 - val_loss: 1.8274 - val_categorical_accuracy: 1.0000 - lr: 0.0025\n",
      "Epoch 20/100\n",
      "100/100 [==============================] - 0s 4ms/step - loss: 1.7906 - categorical_accuracy: 1.0000 - val_loss: 1.8274 - val_categorical_accuracy: 1.0000 - lr: 0.0025\n",
      "Epoch 21/100\n",
      "100/100 [==============================] - 0s 4ms/step - loss: 1.7906 - categorical_accuracy: 1.0000 - val_loss: 1.8274 - val_categorical_accuracy: 1.0000 - lr: 0.0012\n"
     ]
    },
    {
     "output_type": "execute_result",
     "data": {
      "text/plain": [
       "<keras.callbacks.History at 0x7f74e00d0190>"
      ]
     },
     "metadata": {},
     "execution_count": 105
    }
   ]
  },
  {
   "cell_type": "code",
   "metadata": {
    "id": "sq6EldoEMQNW",
    "colab": {
     "base_uri": "https://localhost:8080/"
    },
    "outputId": "30ad592b-786f-489c-dcc5-e7056bf72a6f"
   },
   "source": [
    "\n",
    "model.predict(X_val)"
   ],
   "execution_count": 106,
   "outputs": [
    {
     "output_type": "execute_result",
     "data": {
      "text/plain": [
       "array([[1.],\n",
       "       [1.],\n",
       "       [1.],\n",
       "       ...,\n",
       "       [1.],\n",
       "       [1.],\n",
       "       [1.]], dtype=float32)"
      ]
     },
     "metadata": {},
     "execution_count": 106
    }
   ]
  },
  {
   "cell_type": "code",
   "metadata": {
    "colab": {
     "base_uri": "https://localhost:8080/"
    },
    "id": "j6dHa1rp4o81",
    "outputId": "8d623379-fbd0-4dee-da20-b2ad5a210552"
   },
   "source": [
    ""
   ],
   "execution_count": 108,
   "outputs": [
    {
     "output_type": "execute_result",
     "data": {
      "text/plain": [
       "4"
      ]
     },
     "metadata": {},
     "execution_count": 108
    }
   ]
  },
  {
   "cell_type": "markdown",
   "metadata": {
    "id": "hyd2aa8mVrfi"
   },
   "source": [
    "## Package DNN"
   ]
  },
  {
   "cell_type": "markdown",
   "metadata": {
    "id": "GH5nhMPMXYRz"
   },
   "source": [
    "### Load data"
   ]
  },
  {
   "cell_type": "code",
   "metadata": {
    "id": "RLf0gtbvWxKC"
   },
   "source": [
    "target_scaler = MinMaxScaler()\n",
    "data = pkg_df\n",
    "df = data.iloc[:,3:-1]\n",
    "data_columns = df.columns\n",
    "X_np = np.array(df)\n",
    "target_scaler.fit(X_np)\n",
    "X = target_scaler.transform(X_np)\n",
    "\n",
    "Y = data.iloc[:,-1]\n",
    "Y = Y.values.reshape(-1, 1)\n",
    "target_scaler = MinMaxScaler()\n",
    "target_scaler.fit(Y)\n",
    "Y = target_scaler.transform(Y)\n"
   ],
   "execution_count": null,
   "outputs": []
  },
  {
   "cell_type": "code",
   "metadata": {
    "id": "tgVoBmEAEMxU"
   },
   "source": [
    "splitter = int(len(X) * .8)\n",
    "X_train = X[:splitter]\n",
    "Y_train = Y[:splitter]\n",
    "X_val = X[splitter:]\n",
    "Y_val = Y[splitter:]"
   ],
   "execution_count": null,
   "outputs": []
  },
  {
   "cell_type": "markdown",
   "metadata": {
    "id": "R9tAB9YCXZ8p"
   },
   "source": [
    "### Train model"
   ]
  },
  {
   "cell_type": "code",
   "metadata": {
    "colab": {
     "base_uri": "https://localhost:8080/"
    },
    "id": "Y4QTYf2JESEg",
    "outputId": "2f35084f-0890-44dc-bc71-103dfea60809"
   },
   "source": [
    "def my_model_fully_connected(loss_fn, opt, ishape = 27, lr = 1e-2):\n",
    "    model_input = tf.keras.layers.Input(shape = ishape)\n",
    "    l2 = tf.keras.layers.Dense(100, activation = 'sigmoid')(model_input)\n",
    "    l2_drop = tf.keras.layers.Dropout(0.05)(l2)\n",
    "    l3 = tf.keras.layers.Dense(50, activation = 'relu')(l2_drop)\n",
    "    l4 = tf.keras.layers.Dense(25, activation = 'relu')(l3) \n",
    "    out= tf.keras.layers.Dense(1, activation = 'relu')(l4)\n",
    "    model = tf.keras.models.Model(inputs = model_input, outputs = out)\n",
    "    model.compile(optimizer=opt, loss=loss_fn, metrics = [\"accuracy\"])\n",
    "    return model\n",
    "\n",
    "lr = 0.001\n",
    "opt = opt = tf.keras.optimizers.SGD(learning_rate=lr)\n",
    "loss_fn = tf.keras.losses.MeanSquaredLogarithmicError()\n",
    "model = my_model_fully_connected(loss_fn, opt, ishape=len(X_train[0]), lr= lr)\n",
    "print(model.summary())\n"
   ],
   "execution_count": null,
   "outputs": [
    {
     "output_type": "stream",
     "name": "stdout",
     "text": [
      "Model: \"model_10\"\n",
      "_________________________________________________________________\n",
      " Layer (type)                Output Shape              Param #   \n",
      "=================================================================\n",
      " input_11 (InputLayer)       [(None, 18)]              0         \n",
      "                                                                 \n",
      " dense_33 (Dense)            (None, 100)               1900      \n",
      "                                                                 \n",
      " dropout_10 (Dropout)        (None, 100)               0         \n",
      "                                                                 \n",
      " dense_34 (Dense)            (None, 50)                5050      \n",
      "                                                                 \n",
      " dense_35 (Dense)            (None, 25)                1275      \n",
      "                                                                 \n",
      " dense_36 (Dense)            (None, 1)                 26        \n",
      "                                                                 \n",
      "=================================================================\n",
      "Total params: 8,251\n",
      "Trainable params: 8,251\n",
      "Non-trainable params: 0\n",
      "_________________________________________________________________\n",
      "None\n"
     ]
    }
   ]
  },
  {
   "cell_type": "code",
   "metadata": {
    "id": "4m9xcAk7EaYD"
   },
   "source": [
    "model_name_fcn = \"package_draft.h5\"\n",
    "early_stop = tf.keras.callbacks.EarlyStopping(monitor='val_loss', patience = 200)\n",
    "\n",
    "monitor = tf.keras.callbacks.ModelCheckpoint(model_name_fcn, monitor='val_loss',\\\n",
    "                                             verbose=0, save_best_only=True,\\\n",
    "                                             save_weights_only=True,\\\n",
    "                                             mode='min')\n",
    "# Learning rate schedule\n",
    "def scheduler(epoch, lr):\n",
    "    if epoch%10 == 0:\n",
    "        lr = lr/2\n",
    "    return lr\n",
    "\n",
    "lr_schedule = tf.keras.callbacks.LearningRateScheduler(scheduler, verbose = 0)"
   ],
   "execution_count": null,
   "outputs": []
  },
  {
   "cell_type": "code",
   "metadata": {
    "id": "0VJVOdnxXcFJ",
    "colab": {
     "base_uri": "https://localhost:8080/",
     "height": 1000
    },
    "outputId": "d8da5152-a7f5-45c2-8bf2-fa7f95a4cf8c"
   },
   "source": [
    "## Train model\n",
    "model.fit(X_train, Y_train, epochs = 100, batch_size=32, \\\n",
    "          verbose = 1, callbacks= [early_stop, monitor, lr_schedule], validation_data= (X_val, Y_val))"
   ],
   "execution_count": null,
   "outputs": [
    {
     "output_type": "stream",
     "name": "stdout",
     "text": [
      "Epoch 1/100\n",
      "55/55 [==============================] - 1s 12ms/step - loss: 0.0238 - accuracy: 0.5251 - val_loss: 0.0109 - val_accuracy: 0.6082 - lr: 5.0000e-04\n",
      "Epoch 2/100\n",
      "55/55 [==============================] - 0s 5ms/step - loss: 0.0142 - accuracy: 0.5251 - val_loss: 0.0051 - val_accuracy: 0.6082 - lr: 5.0000e-04\n",
      "Epoch 3/100\n",
      "55/55 [==============================] - 0s 4ms/step - loss: 0.0084 - accuracy: 0.5251 - val_loss: 0.0027 - val_accuracy: 0.6082 - lr: 5.0000e-04\n",
      "Epoch 4/100\n",
      "55/55 [==============================] - 0s 4ms/step - loss: 0.0055 - accuracy: 0.5251 - val_loss: 0.0019 - val_accuracy: 0.6082 - lr: 5.0000e-04\n",
      "Epoch 5/100\n",
      "55/55 [==============================] - 0s 4ms/step - loss: 0.0035 - accuracy: 0.5251 - val_loss: 0.0017 - val_accuracy: 0.6082 - lr: 5.0000e-04\n",
      "Epoch 6/100\n",
      "55/55 [==============================] - 0s 4ms/step - loss: 0.0028 - accuracy: 0.5251 - val_loss: 0.0017 - val_accuracy: 0.6082 - lr: 5.0000e-04\n",
      "Epoch 7/100\n",
      "55/55 [==============================] - 0s 4ms/step - loss: 0.0023 - accuracy: 0.5251 - val_loss: 0.0017 - val_accuracy: 0.6082 - lr: 5.0000e-04\n",
      "Epoch 8/100\n",
      "55/55 [==============================] - 0s 4ms/step - loss: 0.0018 - accuracy: 0.5251 - val_loss: 0.0017 - val_accuracy: 0.6082 - lr: 5.0000e-04\n",
      "Epoch 9/100\n",
      "55/55 [==============================] - 0s 4ms/step - loss: 0.0014 - accuracy: 0.5251 - val_loss: 0.0017 - val_accuracy: 0.6082 - lr: 5.0000e-04\n",
      "Epoch 10/100\n",
      "55/55 [==============================] - 0s 4ms/step - loss: 0.0013 - accuracy: 0.5251 - val_loss: 0.0017 - val_accuracy: 0.6082 - lr: 5.0000e-04\n",
      "Epoch 11/100\n",
      "55/55 [==============================] - 0s 4ms/step - loss: 0.0013 - accuracy: 0.5251 - val_loss: 0.0017 - val_accuracy: 0.6082 - lr: 2.5000e-04\n",
      "Epoch 12/100\n",
      "55/55 [==============================] - 0s 4ms/step - loss: 0.0011 - accuracy: 0.5251 - val_loss: 0.0017 - val_accuracy: 0.6082 - lr: 2.5000e-04\n",
      "Epoch 13/100\n",
      "55/55 [==============================] - 0s 4ms/step - loss: 9.9698e-04 - accuracy: 0.5251 - val_loss: 0.0017 - val_accuracy: 0.6082 - lr: 2.5000e-04\n",
      "Epoch 14/100\n",
      "55/55 [==============================] - 0s 4ms/step - loss: 9.5444e-04 - accuracy: 0.5251 - val_loss: 0.0017 - val_accuracy: 0.6082 - lr: 2.5000e-04\n",
      "Epoch 15/100\n",
      "55/55 [==============================] - 0s 4ms/step - loss: 9.3873e-04 - accuracy: 0.5251 - val_loss: 0.0017 - val_accuracy: 0.6082 - lr: 2.5000e-04\n",
      "Epoch 16/100\n",
      "55/55 [==============================] - 0s 4ms/step - loss: 9.0718e-04 - accuracy: 0.5251 - val_loss: 0.0017 - val_accuracy: 0.6082 - lr: 2.5000e-04\n",
      "Epoch 17/100\n",
      "55/55 [==============================] - 0s 4ms/step - loss: 9.4879e-04 - accuracy: 0.5251 - val_loss: 0.0017 - val_accuracy: 0.6082 - lr: 2.5000e-04\n",
      "Epoch 18/100\n",
      "55/55 [==============================] - 0s 4ms/step - loss: 8.8370e-04 - accuracy: 0.5251 - val_loss: 0.0017 - val_accuracy: 0.6082 - lr: 2.5000e-04\n",
      "Epoch 19/100\n",
      "55/55 [==============================] - 0s 4ms/step - loss: 7.9530e-04 - accuracy: 0.5251 - val_loss: 0.0017 - val_accuracy: 0.6082 - lr: 2.5000e-04\n",
      "Epoch 20/100\n",
      "55/55 [==============================] - 0s 4ms/step - loss: 7.5888e-04 - accuracy: 0.5251 - val_loss: 0.0017 - val_accuracy: 0.6082 - lr: 2.5000e-04\n",
      "Epoch 21/100\n",
      "55/55 [==============================] - 0s 4ms/step - loss: 7.6820e-04 - accuracy: 0.5251 - val_loss: 0.0017 - val_accuracy: 0.6082 - lr: 1.2500e-04\n",
      "Epoch 22/100\n",
      "55/55 [==============================] - 0s 4ms/step - loss: 7.6669e-04 - accuracy: 0.5251 - val_loss: 0.0017 - val_accuracy: 0.6082 - lr: 1.2500e-04\n",
      "Epoch 23/100\n",
      "55/55 [==============================] - 0s 4ms/step - loss: 6.7975e-04 - accuracy: 0.5251 - val_loss: 0.0017 - val_accuracy: 0.6082 - lr: 1.2500e-04\n",
      "Epoch 24/100\n",
      "55/55 [==============================] - 0s 4ms/step - loss: 7.7518e-04 - accuracy: 0.5251 - val_loss: 0.0017 - val_accuracy: 0.6082 - lr: 1.2500e-04\n",
      "Epoch 25/100\n",
      "37/55 [===================>..........] - ETA: 0s - loss: 6.4980e-04 - accuracy: 0.5160"
     ]
    },
    {
     "output_type": "error",
     "ename": "KeyboardInterrupt",
     "evalue": "ignored",
     "traceback": [
      "\u001B[0;31m---------------------------------------------------------------------------\u001B[0m",
      "\u001B[0;31mKeyboardInterrupt\u001B[0m                         Traceback (most recent call last)",
      "\u001B[0;32m<ipython-input-45-44005d009e4f>\u001B[0m in \u001B[0;36m<module>\u001B[0;34m()\u001B[0m\n\u001B[1;32m      1\u001B[0m \u001B[0;31m## Train model\u001B[0m\u001B[0;34m\u001B[0m\u001B[0;34m\u001B[0m\u001B[0;34m\u001B[0m\u001B[0m\n\u001B[0;32m----> 2\u001B[0;31m \u001B[0mmodel\u001B[0m\u001B[0;34m.\u001B[0m\u001B[0mfit\u001B[0m\u001B[0;34m(\u001B[0m\u001B[0mX_train\u001B[0m\u001B[0;34m,\u001B[0m \u001B[0mY_train\u001B[0m\u001B[0;34m,\u001B[0m \u001B[0mepochs\u001B[0m \u001B[0;34m=\u001B[0m \u001B[0;36m100\u001B[0m\u001B[0;34m,\u001B[0m \u001B[0mbatch_size\u001B[0m\u001B[0;34m=\u001B[0m\u001B[0;36m32\u001B[0m\u001B[0;34m,\u001B[0m           \u001B[0mverbose\u001B[0m \u001B[0;34m=\u001B[0m \u001B[0;36m1\u001B[0m\u001B[0;34m,\u001B[0m \u001B[0mcallbacks\u001B[0m\u001B[0;34m=\u001B[0m \u001B[0;34m[\u001B[0m\u001B[0mearly_stop\u001B[0m\u001B[0;34m,\u001B[0m \u001B[0mmonitor\u001B[0m\u001B[0;34m,\u001B[0m \u001B[0mlr_schedule\u001B[0m\u001B[0;34m]\u001B[0m\u001B[0;34m,\u001B[0m \u001B[0mvalidation_data\u001B[0m\u001B[0;34m=\u001B[0m \u001B[0;34m(\u001B[0m\u001B[0mX_val\u001B[0m\u001B[0;34m,\u001B[0m \u001B[0mY_val\u001B[0m\u001B[0;34m)\u001B[0m\u001B[0;34m)\u001B[0m\u001B[0;34m\u001B[0m\u001B[0;34m\u001B[0m\u001B[0m\n\u001B[0m",
      "\u001B[0;32m/usr/local/lib/python3.7/dist-packages/keras/utils/traceback_utils.py\u001B[0m in \u001B[0;36merror_handler\u001B[0;34m(*args, **kwargs)\u001B[0m\n\u001B[1;32m     62\u001B[0m     \u001B[0mfiltered_tb\u001B[0m \u001B[0;34m=\u001B[0m \u001B[0;32mNone\u001B[0m\u001B[0;34m\u001B[0m\u001B[0;34m\u001B[0m\u001B[0m\n\u001B[1;32m     63\u001B[0m     \u001B[0;32mtry\u001B[0m\u001B[0;34m:\u001B[0m\u001B[0;34m\u001B[0m\u001B[0;34m\u001B[0m\u001B[0m\n\u001B[0;32m---> 64\u001B[0;31m       \u001B[0;32mreturn\u001B[0m \u001B[0mfn\u001B[0m\u001B[0;34m(\u001B[0m\u001B[0;34m*\u001B[0m\u001B[0margs\u001B[0m\u001B[0;34m,\u001B[0m \u001B[0;34m**\u001B[0m\u001B[0mkwargs\u001B[0m\u001B[0;34m)\u001B[0m\u001B[0;34m\u001B[0m\u001B[0;34m\u001B[0m\u001B[0m\n\u001B[0m\u001B[1;32m     65\u001B[0m     \u001B[0;32mexcept\u001B[0m \u001B[0mException\u001B[0m \u001B[0;32mas\u001B[0m \u001B[0me\u001B[0m\u001B[0;34m:\u001B[0m  \u001B[0;31m# pylint: disable=broad-except\u001B[0m\u001B[0;34m\u001B[0m\u001B[0;34m\u001B[0m\u001B[0m\n\u001B[1;32m     66\u001B[0m       \u001B[0mfiltered_tb\u001B[0m \u001B[0;34m=\u001B[0m \u001B[0m_process_traceback_frames\u001B[0m\u001B[0;34m(\u001B[0m\u001B[0me\u001B[0m\u001B[0;34m.\u001B[0m\u001B[0m__traceback__\u001B[0m\u001B[0;34m)\u001B[0m\u001B[0;34m\u001B[0m\u001B[0;34m\u001B[0m\u001B[0m\n",
      "\u001B[0;32m/usr/local/lib/python3.7/dist-packages/keras/engine/training.py\u001B[0m in \u001B[0;36mfit\u001B[0;34m(self, x, y, batch_size, epochs, verbose, callbacks, validation_split, validation_data, shuffle, class_weight, sample_weight, initial_epoch, steps_per_epoch, validation_steps, validation_batch_size, validation_freq, max_queue_size, workers, use_multiprocessing)\u001B[0m\n\u001B[1;32m   1214\u001B[0m                 _r=1):\n\u001B[1;32m   1215\u001B[0m               \u001B[0mcallbacks\u001B[0m\u001B[0;34m.\u001B[0m\u001B[0mon_train_batch_begin\u001B[0m\u001B[0;34m(\u001B[0m\u001B[0mstep\u001B[0m\u001B[0;34m)\u001B[0m\u001B[0;34m\u001B[0m\u001B[0;34m\u001B[0m\u001B[0m\n\u001B[0;32m-> 1216\u001B[0;31m               \u001B[0mtmp_logs\u001B[0m \u001B[0;34m=\u001B[0m \u001B[0mself\u001B[0m\u001B[0;34m.\u001B[0m\u001B[0mtrain_function\u001B[0m\u001B[0;34m(\u001B[0m\u001B[0miterator\u001B[0m\u001B[0;34m)\u001B[0m\u001B[0;34m\u001B[0m\u001B[0;34m\u001B[0m\u001B[0m\n\u001B[0m\u001B[1;32m   1217\u001B[0m               \u001B[0;32mif\u001B[0m \u001B[0mdata_handler\u001B[0m\u001B[0;34m.\u001B[0m\u001B[0mshould_sync\u001B[0m\u001B[0;34m:\u001B[0m\u001B[0;34m\u001B[0m\u001B[0;34m\u001B[0m\u001B[0m\n\u001B[1;32m   1218\u001B[0m                 \u001B[0mcontext\u001B[0m\u001B[0;34m.\u001B[0m\u001B[0masync_wait\u001B[0m\u001B[0;34m(\u001B[0m\u001B[0;34m)\u001B[0m\u001B[0;34m\u001B[0m\u001B[0;34m\u001B[0m\u001B[0m\n",
      "\u001B[0;32m/usr/local/lib/python3.7/dist-packages/tensorflow/python/util/traceback_utils.py\u001B[0m in \u001B[0;36merror_handler\u001B[0;34m(*args, **kwargs)\u001B[0m\n\u001B[1;32m    148\u001B[0m     \u001B[0mfiltered_tb\u001B[0m \u001B[0;34m=\u001B[0m \u001B[0;32mNone\u001B[0m\u001B[0;34m\u001B[0m\u001B[0;34m\u001B[0m\u001B[0m\n\u001B[1;32m    149\u001B[0m     \u001B[0;32mtry\u001B[0m\u001B[0;34m:\u001B[0m\u001B[0;34m\u001B[0m\u001B[0;34m\u001B[0m\u001B[0m\n\u001B[0;32m--> 150\u001B[0;31m       \u001B[0;32mreturn\u001B[0m \u001B[0mfn\u001B[0m\u001B[0;34m(\u001B[0m\u001B[0;34m*\u001B[0m\u001B[0margs\u001B[0m\u001B[0;34m,\u001B[0m \u001B[0;34m**\u001B[0m\u001B[0mkwargs\u001B[0m\u001B[0;34m)\u001B[0m\u001B[0;34m\u001B[0m\u001B[0;34m\u001B[0m\u001B[0m\n\u001B[0m\u001B[1;32m    151\u001B[0m     \u001B[0;32mexcept\u001B[0m \u001B[0mException\u001B[0m \u001B[0;32mas\u001B[0m \u001B[0me\u001B[0m\u001B[0;34m:\u001B[0m\u001B[0;34m\u001B[0m\u001B[0;34m\u001B[0m\u001B[0m\n\u001B[1;32m    152\u001B[0m       \u001B[0mfiltered_tb\u001B[0m \u001B[0;34m=\u001B[0m \u001B[0m_process_traceback_frames\u001B[0m\u001B[0;34m(\u001B[0m\u001B[0me\u001B[0m\u001B[0;34m.\u001B[0m\u001B[0m__traceback__\u001B[0m\u001B[0;34m)\u001B[0m\u001B[0;34m\u001B[0m\u001B[0;34m\u001B[0m\u001B[0m\n",
      "\u001B[0;32m/usr/local/lib/python3.7/dist-packages/tensorflow/python/eager/def_function.py\u001B[0m in \u001B[0;36m__call__\u001B[0;34m(self, *args, **kwds)\u001B[0m\n\u001B[1;32m    908\u001B[0m \u001B[0;34m\u001B[0m\u001B[0m\n\u001B[1;32m    909\u001B[0m       \u001B[0;32mwith\u001B[0m \u001B[0mOptionalXlaContext\u001B[0m\u001B[0;34m(\u001B[0m\u001B[0mself\u001B[0m\u001B[0;34m.\u001B[0m\u001B[0m_jit_compile\u001B[0m\u001B[0;34m)\u001B[0m\u001B[0;34m:\u001B[0m\u001B[0;34m\u001B[0m\u001B[0;34m\u001B[0m\u001B[0m\n\u001B[0;32m--> 910\u001B[0;31m         \u001B[0mresult\u001B[0m \u001B[0;34m=\u001B[0m \u001B[0mself\u001B[0m\u001B[0;34m.\u001B[0m\u001B[0m_call\u001B[0m\u001B[0;34m(\u001B[0m\u001B[0;34m*\u001B[0m\u001B[0margs\u001B[0m\u001B[0;34m,\u001B[0m \u001B[0;34m**\u001B[0m\u001B[0mkwds\u001B[0m\u001B[0;34m)\u001B[0m\u001B[0;34m\u001B[0m\u001B[0;34m\u001B[0m\u001B[0m\n\u001B[0m\u001B[1;32m    911\u001B[0m \u001B[0;34m\u001B[0m\u001B[0m\n\u001B[1;32m    912\u001B[0m       \u001B[0mnew_tracing_count\u001B[0m \u001B[0;34m=\u001B[0m \u001B[0mself\u001B[0m\u001B[0;34m.\u001B[0m\u001B[0mexperimental_get_tracing_count\u001B[0m\u001B[0;34m(\u001B[0m\u001B[0;34m)\u001B[0m\u001B[0;34m\u001B[0m\u001B[0;34m\u001B[0m\u001B[0m\n",
      "\u001B[0;32m/usr/local/lib/python3.7/dist-packages/tensorflow/python/eager/def_function.py\u001B[0m in \u001B[0;36m_call\u001B[0;34m(self, *args, **kwds)\u001B[0m\n\u001B[1;32m    940\u001B[0m       \u001B[0;31m# In this case we have created variables on the first call, so we run the\u001B[0m\u001B[0;34m\u001B[0m\u001B[0;34m\u001B[0m\u001B[0;34m\u001B[0m\u001B[0m\n\u001B[1;32m    941\u001B[0m       \u001B[0;31m# defunned version which is guaranteed to never create variables.\u001B[0m\u001B[0;34m\u001B[0m\u001B[0;34m\u001B[0m\u001B[0;34m\u001B[0m\u001B[0m\n\u001B[0;32m--> 942\u001B[0;31m       \u001B[0;32mreturn\u001B[0m \u001B[0mself\u001B[0m\u001B[0;34m.\u001B[0m\u001B[0m_stateless_fn\u001B[0m\u001B[0;34m(\u001B[0m\u001B[0;34m*\u001B[0m\u001B[0margs\u001B[0m\u001B[0;34m,\u001B[0m \u001B[0;34m**\u001B[0m\u001B[0mkwds\u001B[0m\u001B[0;34m)\u001B[0m  \u001B[0;31m# pylint: disable=not-callable\u001B[0m\u001B[0;34m\u001B[0m\u001B[0;34m\u001B[0m\u001B[0m\n\u001B[0m\u001B[1;32m    943\u001B[0m     \u001B[0;32melif\u001B[0m \u001B[0mself\u001B[0m\u001B[0;34m.\u001B[0m\u001B[0m_stateful_fn\u001B[0m \u001B[0;32mis\u001B[0m \u001B[0;32mnot\u001B[0m \u001B[0;32mNone\u001B[0m\u001B[0;34m:\u001B[0m\u001B[0;34m\u001B[0m\u001B[0;34m\u001B[0m\u001B[0m\n\u001B[1;32m    944\u001B[0m       \u001B[0;31m# Release the lock early so that multiple threads can perform the call\u001B[0m\u001B[0;34m\u001B[0m\u001B[0;34m\u001B[0m\u001B[0;34m\u001B[0m\u001B[0m\n",
      "\u001B[0;32m/usr/local/lib/python3.7/dist-packages/tensorflow/python/eager/function.py\u001B[0m in \u001B[0;36m__call__\u001B[0;34m(self, *args, **kwargs)\u001B[0m\n\u001B[1;32m   3129\u001B[0m        filtered_flat_args) = self._maybe_define_function(args, kwargs)\n\u001B[1;32m   3130\u001B[0m     return graph_function._call_flat(\n\u001B[0;32m-> 3131\u001B[0;31m         filtered_flat_args, captured_inputs=graph_function.captured_inputs)  # pylint: disable=protected-access\n\u001B[0m\u001B[1;32m   3132\u001B[0m \u001B[0;34m\u001B[0m\u001B[0m\n\u001B[1;32m   3133\u001B[0m   \u001B[0;34m@\u001B[0m\u001B[0mproperty\u001B[0m\u001B[0;34m\u001B[0m\u001B[0;34m\u001B[0m\u001B[0m\n",
      "\u001B[0;32m/usr/local/lib/python3.7/dist-packages/tensorflow/python/eager/function.py\u001B[0m in \u001B[0;36m_call_flat\u001B[0;34m(self, args, captured_inputs, cancellation_manager)\u001B[0m\n\u001B[1;32m   1958\u001B[0m       \u001B[0;31m# No tape is watching; skip to running the function.\u001B[0m\u001B[0;34m\u001B[0m\u001B[0;34m\u001B[0m\u001B[0;34m\u001B[0m\u001B[0m\n\u001B[1;32m   1959\u001B[0m       return self._build_call_outputs(self._inference_function.call(\n\u001B[0;32m-> 1960\u001B[0;31m           ctx, args, cancellation_manager=cancellation_manager))\n\u001B[0m\u001B[1;32m   1961\u001B[0m     forward_backward = self._select_forward_and_backward_functions(\n\u001B[1;32m   1962\u001B[0m         \u001B[0margs\u001B[0m\u001B[0;34m,\u001B[0m\u001B[0;34m\u001B[0m\u001B[0;34m\u001B[0m\u001B[0m\n",
      "\u001B[0;32m/usr/local/lib/python3.7/dist-packages/tensorflow/python/eager/function.py\u001B[0m in \u001B[0;36mcall\u001B[0;34m(self, ctx, args, cancellation_manager)\u001B[0m\n\u001B[1;32m    601\u001B[0m               \u001B[0minputs\u001B[0m\u001B[0;34m=\u001B[0m\u001B[0margs\u001B[0m\u001B[0;34m,\u001B[0m\u001B[0;34m\u001B[0m\u001B[0;34m\u001B[0m\u001B[0m\n\u001B[1;32m    602\u001B[0m               \u001B[0mattrs\u001B[0m\u001B[0;34m=\u001B[0m\u001B[0mattrs\u001B[0m\u001B[0;34m,\u001B[0m\u001B[0;34m\u001B[0m\u001B[0;34m\u001B[0m\u001B[0m\n\u001B[0;32m--> 603\u001B[0;31m               ctx=ctx)\n\u001B[0m\u001B[1;32m    604\u001B[0m         \u001B[0;32melse\u001B[0m\u001B[0;34m:\u001B[0m\u001B[0;34m\u001B[0m\u001B[0;34m\u001B[0m\u001B[0m\n\u001B[1;32m    605\u001B[0m           outputs = execute.execute_with_cancellation(\n",
      "\u001B[0;32m/usr/local/lib/python3.7/dist-packages/tensorflow/python/eager/execute.py\u001B[0m in \u001B[0;36mquick_execute\u001B[0;34m(op_name, num_outputs, inputs, attrs, ctx, name)\u001B[0m\n\u001B[1;32m     57\u001B[0m     \u001B[0mctx\u001B[0m\u001B[0;34m.\u001B[0m\u001B[0mensure_initialized\u001B[0m\u001B[0;34m(\u001B[0m\u001B[0;34m)\u001B[0m\u001B[0;34m\u001B[0m\u001B[0;34m\u001B[0m\u001B[0m\n\u001B[1;32m     58\u001B[0m     tensors = pywrap_tfe.TFE_Py_Execute(ctx._handle, device_name, op_name,\n\u001B[0;32m---> 59\u001B[0;31m                                         inputs, attrs, num_outputs)\n\u001B[0m\u001B[1;32m     60\u001B[0m   \u001B[0;32mexcept\u001B[0m \u001B[0mcore\u001B[0m\u001B[0;34m.\u001B[0m\u001B[0m_NotOkStatusException\u001B[0m \u001B[0;32mas\u001B[0m \u001B[0me\u001B[0m\u001B[0;34m:\u001B[0m\u001B[0;34m\u001B[0m\u001B[0;34m\u001B[0m\u001B[0m\n\u001B[1;32m     61\u001B[0m     \u001B[0;32mif\u001B[0m \u001B[0mname\u001B[0m \u001B[0;32mis\u001B[0m \u001B[0;32mnot\u001B[0m \u001B[0;32mNone\u001B[0m\u001B[0;34m:\u001B[0m\u001B[0;34m\u001B[0m\u001B[0;34m\u001B[0m\u001B[0m\n",
      "\u001B[0;31mKeyboardInterrupt\u001B[0m: "
     ]
    }
   ]
  },
  {
   "cell_type": "code",
   "metadata": {
    "id": "MSG14H0HXdbP"
   },
   "source": [
    "## Test model"
   ],
   "execution_count": null,
   "outputs": []
  }
 ]
}