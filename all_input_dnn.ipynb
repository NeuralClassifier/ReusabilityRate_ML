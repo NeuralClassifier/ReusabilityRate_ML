{
  "nbformat": 4,
  "nbformat_minor": 0,
  "metadata": {
    "colab": {
      "name": "all_input_dnn.ipynb",
      "provenance": []
    },
    "kernelspec": {
      "name": "python3",
      "display_name": "Python 3"
    },
    "language_info": {
      "name": "python"
    }
  },
  "cells": [
    {
      "cell_type": "markdown",
      "metadata": {
        "id": "niAd-DB0VoTX"
      },
      "source": [
        "## Reqs"
      ]
    },
    {
      "cell_type": "code",
      "metadata": {
        "id": "-9m7LcF9WErj",
        "colab": {
          "base_uri": "https://localhost:8080/"
        },
        "outputId": "faf2ec00-c35f-4ae5-93c4-8d0bce668e05"
      },
      "source": [
        "!git clone https://github.com/NeuralClassifier/ReusabilityRate_ML\n",
        "!git checkout corr_analysis\n",
        "%cd /content/ReusabilityRate_ML/DataSets"
      ],
      "execution_count": null,
      "outputs": [
        {
          "output_type": "stream",
          "name": "stdout",
          "text": [
            "Cloning into 'ReusabilityRate_ML'...\n",
            "remote: Enumerating objects: 150, done.\u001b[K\n",
            "remote: Counting objects: 100% (150/150), done.\u001b[K\n",
            "remote: Compressing objects: 100% (142/142), done.\u001b[K\n",
            "remote: Total 150 (delta 63), reused 15 (delta 6), pack-reused 0\u001b[K\n",
            "Receiving objects: 100% (150/150), 9.04 MiB | 10.91 MiB/s, done.\n",
            "Resolving deltas: 100% (63/63), done.\n",
            "fatal: not a git repository (or any of the parent directories): .git\n",
            "/content/ReusabilityRate_ML/DataSets\n"
          ]
        }
      ]
    },
    {
      "cell_type": "code",
      "metadata": {
        "id": "8L9SOrFdVjrI"
      },
      "source": [
        "import pandas as pd\n",
        "import numpy as np\n",
        "\n",
        "\n",
        "from sklearn.preprocessing import MinMaxScaler\n",
        "from sklearn.model_selection import KFold \n",
        "from sklearn.metrics import mean_absolute_error \n",
        "from sklearn.metrics import mean_squared_error\n",
        "from sklearn.preprocessing import StandardScaler\n",
        "import statistics\n",
        "import tensorflow as tf\n",
        "\n",
        "import warnings\n",
        "pd.plotting.register_matplotlib_converters()\n",
        "import matplotlib.pyplot as plt\n",
        "%matplotlib inline\n",
        "import seaborn as sns"
      ],
      "execution_count": null,
      "outputs": []
    },
    {
      "cell_type": "markdown",
      "metadata": {
        "id": "o5ll3IsmWdzx"
      },
      "source": [
        "### Read class and package metrics(x:inputs) and RR(y:label)"
      ]
    },
    {
      "cell_type": "code",
      "metadata": {
        "id": "pdqaGed7WP35"
      },
      "source": [
        "cls_df = pd.read_csv('cls_normalized.csv')\n",
        "pkg_df = pd.read_csv('pkg_normalized.csv')\n",
        "cls_df.drop(['Unnamed: 0'], axis=1, inplace=True)\n",
        "pkg_df.drop(['Unnamed: 0'], axis=1, inplace=True)"
      ],
      "execution_count": null,
      "outputs": []
    },
    {
      "cell_type": "code",
      "metadata": {
        "id": "VyxQMj1A65Y0",
        "outputId": "b5cb1de4-6493-422d-ecad-3a928d17479b",
        "colab": {
          "base_uri": "https://localhost:8080/",
          "height": 411
        }
      },
      "source": [
        "pkg_df"
      ],
      "execution_count": null,
      "outputs": [
        {
          "output_type": "execute_result",
          "data": {
            "text/html": [
              "<div>\n",
              "<style scoped>\n",
              "    .dataframe tbody tr th:only-of-type {\n",
              "        vertical-align: middle;\n",
              "    }\n",
              "\n",
              "    .dataframe tbody tr th {\n",
              "        vertical-align: top;\n",
              "    }\n",
              "\n",
              "    .dataframe thead th {\n",
              "        text-align: right;\n",
              "    }\n",
              "</style>\n",
              "<table border=\"1\" class=\"dataframe\">\n",
              "  <thead>\n",
              "    <tr style=\"text-align: right;\">\n",
              "      <th></th>\n",
              "      <th>Project</th>\n",
              "      <th>LongName</th>\n",
              "      <th>Name</th>\n",
              "      <th>AD</th>\n",
              "      <th>CD</th>\n",
              "      <th>TCD</th>\n",
              "      <th>CLOC</th>\n",
              "      <th>TCLOC</th>\n",
              "      <th>PDA</th>\n",
              "      <th>TPDA</th>\n",
              "      <th>LLOC</th>\n",
              "      <th>LOC</th>\n",
              "      <th>TLOC</th>\n",
              "      <th>NG</th>\n",
              "      <th>TLLOC</th>\n",
              "      <th>TNA</th>\n",
              "      <th>TNG</th>\n",
              "      <th>TNM</th>\n",
              "      <th>TNOS</th>\n",
              "      <th>TNPM</th>\n",
              "      <th>NCL</th>\n",
              "      <th>ReuseRate</th>\n",
              "      <th>ReuseRate_lbl</th>\n",
              "    </tr>\n",
              "  </thead>\n",
              "  <tbody>\n",
              "    <tr>\n",
              "      <th>0</th>\n",
              "      <td>ch.qos.logback/logback-classic</td>\n",
              "      <td>&lt;root_package&gt;</td>\n",
              "      <td>&lt;root_package&gt;</td>\n",
              "      <td>-1.000000</td>\n",
              "      <td>-1.000000</td>\n",
              "      <td>-0.255446</td>\n",
              "      <td>-1.000000</td>\n",
              "      <td>-0.959769</td>\n",
              "      <td>-1.000000</td>\n",
              "      <td>-0.961194</td>\n",
              "      <td>-1.000000</td>\n",
              "      <td>-1.000000</td>\n",
              "      <td>-0.956749</td>\n",
              "      <td>-1.000000</td>\n",
              "      <td>-0.959630</td>\n",
              "      <td>-0.908012</td>\n",
              "      <td>-0.952302</td>\n",
              "      <td>-0.956669</td>\n",
              "      <td>-0.941933</td>\n",
              "      <td>-0.962812</td>\n",
              "      <td>-1.000000</td>\n",
              "      <td>0.0</td>\n",
              "      <td>0</td>\n",
              "    </tr>\n",
              "    <tr>\n",
              "      <th>1</th>\n",
              "      <td>ch.qos.logback/logback-classic</td>\n",
              "      <td>ch</td>\n",
              "      <td>ch</td>\n",
              "      <td>-1.000000</td>\n",
              "      <td>-1.000000</td>\n",
              "      <td>-0.253473</td>\n",
              "      <td>-1.000000</td>\n",
              "      <td>-0.959769</td>\n",
              "      <td>-1.000000</td>\n",
              "      <td>-0.961194</td>\n",
              "      <td>-1.000000</td>\n",
              "      <td>-1.000000</td>\n",
              "      <td>-0.956864</td>\n",
              "      <td>-1.000000</td>\n",
              "      <td>-0.959792</td>\n",
              "      <td>-0.908012</td>\n",
              "      <td>-0.952302</td>\n",
              "      <td>-0.956669</td>\n",
              "      <td>-0.941933</td>\n",
              "      <td>-0.962812</td>\n",
              "      <td>-1.000000</td>\n",
              "      <td>0.0</td>\n",
              "      <td>0</td>\n",
              "    </tr>\n",
              "    <tr>\n",
              "      <th>2</th>\n",
              "      <td>ch.qos.logback/logback-classic</td>\n",
              "      <td>unnamed package</td>\n",
              "      <td>unnamed package</td>\n",
              "      <td>-1.000000</td>\n",
              "      <td>-1.000000</td>\n",
              "      <td>-1.000000</td>\n",
              "      <td>-1.000000</td>\n",
              "      <td>-1.000000</td>\n",
              "      <td>-1.000000</td>\n",
              "      <td>-1.000000</td>\n",
              "      <td>-0.999661</td>\n",
              "      <td>-0.999712</td>\n",
              "      <td>-0.999885</td>\n",
              "      <td>-1.000000</td>\n",
              "      <td>-0.999838</td>\n",
              "      <td>-1.000000</td>\n",
              "      <td>-1.000000</td>\n",
              "      <td>-1.000000</td>\n",
              "      <td>-1.000000</td>\n",
              "      <td>-1.000000</td>\n",
              "      <td>-1.000000</td>\n",
              "      <td>0.0</td>\n",
              "      <td>0</td>\n",
              "    </tr>\n",
              "    <tr>\n",
              "      <th>3</th>\n",
              "      <td>ch.qos.logback/logback-classic</td>\n",
              "      <td>ch.qos</td>\n",
              "      <td>qos</td>\n",
              "      <td>-1.000000</td>\n",
              "      <td>-1.000000</td>\n",
              "      <td>-0.253473</td>\n",
              "      <td>-1.000000</td>\n",
              "      <td>-0.959769</td>\n",
              "      <td>-1.000000</td>\n",
              "      <td>-0.961194</td>\n",
              "      <td>-1.000000</td>\n",
              "      <td>-1.000000</td>\n",
              "      <td>-0.956864</td>\n",
              "      <td>-1.000000</td>\n",
              "      <td>-0.959792</td>\n",
              "      <td>-0.908012</td>\n",
              "      <td>-0.952302</td>\n",
              "      <td>-0.956669</td>\n",
              "      <td>-0.941933</td>\n",
              "      <td>-0.962812</td>\n",
              "      <td>-1.000000</td>\n",
              "      <td>0.0</td>\n",
              "      <td>0</td>\n",
              "    </tr>\n",
              "    <tr>\n",
              "      <th>4</th>\n",
              "      <td>ch.qos.logback/logback-classic</td>\n",
              "      <td>ch.qos.logback</td>\n",
              "      <td>logback</td>\n",
              "      <td>-1.000000</td>\n",
              "      <td>-1.000000</td>\n",
              "      <td>-0.253473</td>\n",
              "      <td>-1.000000</td>\n",
              "      <td>-0.959769</td>\n",
              "      <td>-1.000000</td>\n",
              "      <td>-0.961194</td>\n",
              "      <td>-1.000000</td>\n",
              "      <td>-1.000000</td>\n",
              "      <td>-0.956864</td>\n",
              "      <td>-1.000000</td>\n",
              "      <td>-0.959792</td>\n",
              "      <td>-0.908012</td>\n",
              "      <td>-0.952302</td>\n",
              "      <td>-0.956669</td>\n",
              "      <td>-0.941933</td>\n",
              "      <td>-0.962812</td>\n",
              "      <td>-1.000000</td>\n",
              "      <td>0.0</td>\n",
              "      <td>0</td>\n",
              "    </tr>\n",
              "    <tr>\n",
              "      <th>...</th>\n",
              "      <td>...</td>\n",
              "      <td>...</td>\n",
              "      <td>...</td>\n",
              "      <td>...</td>\n",
              "      <td>...</td>\n",
              "      <td>...</td>\n",
              "      <td>...</td>\n",
              "      <td>...</td>\n",
              "      <td>...</td>\n",
              "      <td>...</td>\n",
              "      <td>...</td>\n",
              "      <td>...</td>\n",
              "      <td>...</td>\n",
              "      <td>...</td>\n",
              "      <td>...</td>\n",
              "      <td>...</td>\n",
              "      <td>...</td>\n",
              "      <td>...</td>\n",
              "      <td>...</td>\n",
              "      <td>...</td>\n",
              "      <td>...</td>\n",
              "      <td>...</td>\n",
              "      <td>...</td>\n",
              "    </tr>\n",
              "    <tr>\n",
              "      <th>2188</th>\n",
              "      <td>xerces/xercesImpl</td>\n",
              "      <td>org.apache.xerces.impl.xs.identity</td>\n",
              "      <td>identity</td>\n",
              "      <td>0.968254</td>\n",
              "      <td>0.033413</td>\n",
              "      <td>0.083579</td>\n",
              "      <td>-0.977705</td>\n",
              "      <td>-0.993081</td>\n",
              "      <td>-0.931073</td>\n",
              "      <td>-0.989014</td>\n",
              "      <td>-0.992390</td>\n",
              "      <td>-0.987862</td>\n",
              "      <td>-0.995148</td>\n",
              "      <td>-0.940460</td>\n",
              "      <td>-0.996360</td>\n",
              "      <td>-0.991098</td>\n",
              "      <td>-0.995164</td>\n",
              "      <td>-0.996647</td>\n",
              "      <td>-0.993460</td>\n",
              "      <td>-0.996841</td>\n",
              "      <td>-0.977604</td>\n",
              "      <td>0.0</td>\n",
              "      <td>0</td>\n",
              "    </tr>\n",
              "    <tr>\n",
              "      <th>2189</th>\n",
              "      <td>xerces/xercesImpl</td>\n",
              "      <td>org.apache.xerces.impl.xs.models</td>\n",
              "      <td>models</td>\n",
              "      <td>0.402986</td>\n",
              "      <td>-0.011642</td>\n",
              "      <td>0.036337</td>\n",
              "      <td>-0.964447</td>\n",
              "      <td>-0.988967</td>\n",
              "      <td>-0.947749</td>\n",
              "      <td>-0.991672</td>\n",
              "      <td>-0.986761</td>\n",
              "      <td>-0.979412</td>\n",
              "      <td>-0.991769</td>\n",
              "      <td>-0.953992</td>\n",
              "      <td>-0.993669</td>\n",
              "      <td>-0.988131</td>\n",
              "      <td>-0.996263</td>\n",
              "      <td>-0.995377</td>\n",
              "      <td>-0.987849</td>\n",
              "      <td>-0.996484</td>\n",
              "      <td>-0.977604</td>\n",
              "      <td>0.0</td>\n",
              "      <td>0</td>\n",
              "    </tr>\n",
              "    <tr>\n",
              "      <th>2190</th>\n",
              "      <td>xerces/xercesImpl</td>\n",
              "      <td>org.apache.xerces.impl.xs.opti</td>\n",
              "      <td>opti</td>\n",
              "      <td>0.081272</td>\n",
              "      <td>-0.000149</td>\n",
              "      <td>0.048387</td>\n",
              "      <td>-0.940306</td>\n",
              "      <td>-0.981476</td>\n",
              "      <td>-0.829906</td>\n",
              "      <td>-0.972889</td>\n",
              "      <td>-0.978261</td>\n",
              "      <td>-0.965010</td>\n",
              "      <td>-0.986012</td>\n",
              "      <td>-0.745602</td>\n",
              "      <td>-0.989603</td>\n",
              "      <td>-0.978087</td>\n",
              "      <td>-0.979338</td>\n",
              "      <td>-0.984151</td>\n",
              "      <td>-0.985873</td>\n",
              "      <td>-0.983313</td>\n",
              "      <td>-0.966405</td>\n",
              "      <td>3.0</td>\n",
              "      <td>2</td>\n",
              "    </tr>\n",
              "    <tr>\n",
              "      <th>2191</th>\n",
              "      <td>xerces/xercesImpl</td>\n",
              "      <td>org.apache.xerces.impl.xs.traversers</td>\n",
              "      <td>traversers</td>\n",
              "      <td>0.400000</td>\n",
              "      <td>-0.532498</td>\n",
              "      <td>-0.509803</td>\n",
              "      <td>-0.920482</td>\n",
              "      <td>-0.975324</td>\n",
              "      <td>-0.984436</td>\n",
              "      <td>-0.997519</td>\n",
              "      <td>-0.907371</td>\n",
              "      <td>-0.904436</td>\n",
              "      <td>-0.961795</td>\n",
              "      <td>-0.907984</td>\n",
              "      <td>-0.955701</td>\n",
              "      <td>-0.924218</td>\n",
              "      <td>-0.992527</td>\n",
              "      <td>-0.985268</td>\n",
              "      <td>-0.919689</td>\n",
              "      <td>-0.996603</td>\n",
              "      <td>-0.935050</td>\n",
              "      <td>0.0</td>\n",
              "      <td>0</td>\n",
              "    </tr>\n",
              "    <tr>\n",
              "      <th>2192</th>\n",
              "      <td>xerces/xercesImpl</td>\n",
              "      <td>org.apache.xerces.impl.xs.util</td>\n",
              "      <td>util</td>\n",
              "      <td>-0.082568</td>\n",
              "      <td>-0.165001</td>\n",
              "      <td>-0.124467</td>\n",
              "      <td>-0.981520</td>\n",
              "      <td>-0.994265</td>\n",
              "      <td>-0.944414</td>\n",
              "      <td>-0.991140</td>\n",
              "      <td>-0.990704</td>\n",
              "      <td>-0.987393</td>\n",
              "      <td>-0.994960</td>\n",
              "      <td>-0.940460</td>\n",
              "      <td>-0.995554</td>\n",
              "      <td>-0.990870</td>\n",
              "      <td>-0.995164</td>\n",
              "      <td>-0.992990</td>\n",
              "      <td>-0.993128</td>\n",
              "      <td>-0.992431</td>\n",
              "      <td>-0.959686</td>\n",
              "      <td>0.0</td>\n",
              "      <td>0</td>\n",
              "    </tr>\n",
              "  </tbody>\n",
              "</table>\n",
              "<p>2193 rows × 23 columns</p>\n",
              "</div>"
            ],
            "text/plain": [
              "                             Project  ... ReuseRate_lbl\n",
              "0     ch.qos.logback/logback-classic  ...             0\n",
              "1     ch.qos.logback/logback-classic  ...             0\n",
              "2     ch.qos.logback/logback-classic  ...             0\n",
              "3     ch.qos.logback/logback-classic  ...             0\n",
              "4     ch.qos.logback/logback-classic  ...             0\n",
              "...                              ...  ...           ...\n",
              "2188               xerces/xercesImpl  ...             0\n",
              "2189               xerces/xercesImpl  ...             0\n",
              "2190               xerces/xercesImpl  ...             2\n",
              "2191               xerces/xercesImpl  ...             0\n",
              "2192               xerces/xercesImpl  ...             0\n",
              "\n",
              "[2193 rows x 23 columns]"
            ]
          },
          "metadata": {},
          "execution_count": 91
        }
      ]
    },
    {
      "cell_type": "markdown",
      "metadata": {
        "id": "Y0K3nWh_VpUf"
      },
      "source": [
        "## Class DNN"
      ]
    },
    {
      "cell_type": "markdown",
      "metadata": {
        "id": "v-Do9iLiXH-9"
      },
      "source": [
        "### Load data"
      ]
    },
    {
      "cell_type": "code",
      "metadata": {
        "id": "Pe0kNtzAVm5x"
      },
      "source": [
        "data = cls_df\n",
        "df = data.iloc[:,3:-2]\n",
        "data_columns = df.columns\n",
        "X_np = np.array(df)\n",
        "X = X_np\n",
        "\n",
        "Y = data.iloc[:,-1]"
      ],
      "execution_count": null,
      "outputs": []
    },
    {
      "cell_type": "code",
      "metadata": {
        "colab": {
          "base_uri": "https://localhost:8080/",
          "height": 494
        },
        "id": "p2MBU0tauums",
        "outputId": "3bed079f-f8c8-4939-ced6-5429acb17e8e"
      },
      "source": [
        "data"
      ],
      "execution_count": null,
      "outputs": [
        {
          "output_type": "execute_result",
          "data": {
            "text/html": [
              "<div>\n",
              "<style scoped>\n",
              "    .dataframe tbody tr th:only-of-type {\n",
              "        vertical-align: middle;\n",
              "    }\n",
              "\n",
              "    .dataframe tbody tr th {\n",
              "        vertical-align: top;\n",
              "    }\n",
              "\n",
              "    .dataframe thead th {\n",
              "        text-align: right;\n",
              "    }\n",
              "</style>\n",
              "<table border=\"1\" class=\"dataframe\">\n",
              "  <thead>\n",
              "    <tr style=\"text-align: right;\">\n",
              "      <th></th>\n",
              "      <th>Project</th>\n",
              "      <th>LongName</th>\n",
              "      <th>Name</th>\n",
              "      <th>LCOM5</th>\n",
              "      <th>NL</th>\n",
              "      <th>NLE</th>\n",
              "      <th>WMC</th>\n",
              "      <th>CBO</th>\n",
              "      <th>CBOI</th>\n",
              "      <th>NII</th>\n",
              "      <th>NOI</th>\n",
              "      <th>RFC</th>\n",
              "      <th>AD</th>\n",
              "      <th>CD</th>\n",
              "      <th>TCD</th>\n",
              "      <th>CLOC</th>\n",
              "      <th>TCLOC</th>\n",
              "      <th>DLOC</th>\n",
              "      <th>PDA</th>\n",
              "      <th>DIT</th>\n",
              "      <th>LLOC</th>\n",
              "      <th>LOC</th>\n",
              "      <th>TLOC</th>\n",
              "      <th>NG</th>\n",
              "      <th>TLLOC</th>\n",
              "      <th>TNA</th>\n",
              "      <th>TNG</th>\n",
              "      <th>TNM</th>\n",
              "      <th>TNOS</th>\n",
              "      <th>TNPM</th>\n",
              "      <th>ReuseRate</th>\n",
              "      <th>ReuseRate_lbl</th>\n",
              "    </tr>\n",
              "  </thead>\n",
              "  <tbody>\n",
              "    <tr>\n",
              "      <th>0</th>\n",
              "      <td>ch.qos.logback/logback-classic</td>\n",
              "      <td>ch.qos.logback.classic.AsyncAppender</td>\n",
              "      <td>AsyncAppender</td>\n",
              "      <td>-0.976331</td>\n",
              "      <td>-0.916667</td>\n",
              "      <td>-0.8</td>\n",
              "      <td>-0.990539</td>\n",
              "      <td>-0.982979</td>\n",
              "      <td>-1.000000</td>\n",
              "      <td>-1.000000</td>\n",
              "      <td>-0.984127</td>\n",
              "      <td>-0.979975</td>\n",
              "      <td>-0.333334</td>\n",
              "      <td>-0.110417</td>\n",
              "      <td>-0.110417</td>\n",
              "      <td>-0.995522</td>\n",
              "      <td>-0.995522</td>\n",
              "      <td>-0.995389</td>\n",
              "      <td>-0.993651</td>\n",
              "      <td>-1.000000</td>\n",
              "      <td>-0.991793</td>\n",
              "      <td>-0.993978</td>\n",
              "      <td>-0.993978</td>\n",
              "      <td>-1.000000</td>\n",
              "      <td>-0.995344</td>\n",
              "      <td>-0.997199</td>\n",
              "      <td>-1.0000</td>\n",
              "      <td>-0.995408</td>\n",
              "      <td>-0.996554</td>\n",
              "      <td>-0.997253</td>\n",
              "      <td>5.307617</td>\n",
              "      <td>4</td>\n",
              "    </tr>\n",
              "    <tr>\n",
              "      <th>1</th>\n",
              "      <td>ch.qos.logback/logback-classic</td>\n",
              "      <td>ch.qos.logback.classic.BasicConfigurator</td>\n",
              "      <td>BasicConfigurator</td>\n",
              "      <td>-0.988166</td>\n",
              "      <td>-1.000000</td>\n",
              "      <td>-1.0</td>\n",
              "      <td>-0.996216</td>\n",
              "      <td>-0.957447</td>\n",
              "      <td>-0.996370</td>\n",
              "      <td>-0.998538</td>\n",
              "      <td>-0.988095</td>\n",
              "      <td>-0.987484</td>\n",
              "      <td>-0.333334</td>\n",
              "      <td>-0.322223</td>\n",
              "      <td>-0.322223</td>\n",
              "      <td>-0.996802</td>\n",
              "      <td>-0.996802</td>\n",
              "      <td>-0.997695</td>\n",
              "      <td>-0.993651</td>\n",
              "      <td>-0.777778</td>\n",
              "      <td>-0.990828</td>\n",
              "      <td>-0.993548</td>\n",
              "      <td>-0.993548</td>\n",
              "      <td>-1.000000</td>\n",
              "      <td>-0.994796</td>\n",
              "      <td>-1.000000</td>\n",
              "      <td>-1.0000</td>\n",
              "      <td>-0.997704</td>\n",
              "      <td>-0.993109</td>\n",
              "      <td>-0.997253</td>\n",
              "      <td>4.000000</td>\n",
              "      <td>3</td>\n",
              "    </tr>\n",
              "    <tr>\n",
              "      <th>2</th>\n",
              "      <td>ch.qos.logback/logback-classic</td>\n",
              "      <td>ch.qos.logback.classic.ClassicConstants</td>\n",
              "      <td>ClassicConstants</td>\n",
              "      <td>-1.000000</td>\n",
              "      <td>-1.000000</td>\n",
              "      <td>-1.0</td>\n",
              "      <td>-1.000000</td>\n",
              "      <td>-1.000000</td>\n",
              "      <td>-0.974592</td>\n",
              "      <td>-1.000000</td>\n",
              "      <td>-1.000000</td>\n",
              "      <td>-1.000000</td>\n",
              "      <td>-1.000000</td>\n",
              "      <td>-0.346428</td>\n",
              "      <td>-0.346428</td>\n",
              "      <td>-0.997121</td>\n",
              "      <td>-0.997121</td>\n",
              "      <td>-0.997036</td>\n",
              "      <td>-1.000000</td>\n",
              "      <td>-1.000000</td>\n",
              "      <td>-0.991311</td>\n",
              "      <td>-0.992687</td>\n",
              "      <td>-0.992687</td>\n",
              "      <td>-1.000000</td>\n",
              "      <td>-0.995070</td>\n",
              "      <td>-0.952381</td>\n",
              "      <td>-1.0000</td>\n",
              "      <td>-1.000000</td>\n",
              "      <td>-1.000000</td>\n",
              "      <td>-1.000000</td>\n",
              "      <td>5.307617</td>\n",
              "      <td>4</td>\n",
              "    </tr>\n",
              "    <tr>\n",
              "      <th>3</th>\n",
              "      <td>ch.qos.logback/logback-classic</td>\n",
              "      <td>ch.qos.logback.classic.Level</td>\n",
              "      <td>Level</td>\n",
              "      <td>-0.988166</td>\n",
              "      <td>-0.916667</td>\n",
              "      <td>-0.8</td>\n",
              "      <td>-0.912961</td>\n",
              "      <td>-1.000000</td>\n",
              "      <td>-0.883848</td>\n",
              "      <td>-0.970760</td>\n",
              "      <td>-1.000000</td>\n",
              "      <td>-0.967459</td>\n",
              "      <td>1.000000</td>\n",
              "      <td>-0.242484</td>\n",
              "      <td>-0.242484</td>\n",
              "      <td>-0.969615</td>\n",
              "      <td>-0.969615</td>\n",
              "      <td>-0.969043</td>\n",
              "      <td>-0.923810</td>\n",
              "      <td>-1.000000</td>\n",
              "      <td>-0.923244</td>\n",
              "      <td>-0.941284</td>\n",
              "      <td>-0.941284</td>\n",
              "      <td>-1.000000</td>\n",
              "      <td>-0.956450</td>\n",
              "      <td>-0.932773</td>\n",
              "      <td>-1.0000</td>\n",
              "      <td>-0.985075</td>\n",
              "      <td>-0.966527</td>\n",
              "      <td>-0.984890</td>\n",
              "      <td>5.307617</td>\n",
              "      <td>4</td>\n",
              "    </tr>\n",
              "    <tr>\n",
              "      <th>4</th>\n",
              "      <td>ch.qos.logback/logback-classic</td>\n",
              "      <td>ch.qos.logback.classic.Logger</td>\n",
              "      <td>Logger</td>\n",
              "      <td>-0.988166</td>\n",
              "      <td>-0.750000</td>\n",
              "      <td>-0.4</td>\n",
              "      <td>-0.708609</td>\n",
              "      <td>-0.957447</td>\n",
              "      <td>-0.916515</td>\n",
              "      <td>-0.969298</td>\n",
              "      <td>-0.956349</td>\n",
              "      <td>-0.732165</td>\n",
              "      <td>-0.851852</td>\n",
              "      <td>-0.581752</td>\n",
              "      <td>-0.581752</td>\n",
              "      <td>-0.958420</td>\n",
              "      <td>-0.958420</td>\n",
              "      <td>-0.960481</td>\n",
              "      <td>-0.961905</td>\n",
              "      <td>-1.000000</td>\n",
              "      <td>-0.758146</td>\n",
              "      <td>-0.838047</td>\n",
              "      <td>-0.838047</td>\n",
              "      <td>-0.929293</td>\n",
              "      <td>-0.862777</td>\n",
              "      <td>-0.971989</td>\n",
              "      <td>-0.9375</td>\n",
              "      <td>-0.889782</td>\n",
              "      <td>-0.877923</td>\n",
              "      <td>-0.890110</td>\n",
              "      <td>5.307617</td>\n",
              "      <td>4</td>\n",
              "    </tr>\n",
              "    <tr>\n",
              "      <th>...</th>\n",
              "      <td>...</td>\n",
              "      <td>...</td>\n",
              "      <td>...</td>\n",
              "      <td>...</td>\n",
              "      <td>...</td>\n",
              "      <td>...</td>\n",
              "      <td>...</td>\n",
              "      <td>...</td>\n",
              "      <td>...</td>\n",
              "      <td>...</td>\n",
              "      <td>...</td>\n",
              "      <td>...</td>\n",
              "      <td>...</td>\n",
              "      <td>...</td>\n",
              "      <td>...</td>\n",
              "      <td>...</td>\n",
              "      <td>...</td>\n",
              "      <td>...</td>\n",
              "      <td>...</td>\n",
              "      <td>...</td>\n",
              "      <td>...</td>\n",
              "      <td>...</td>\n",
              "      <td>...</td>\n",
              "      <td>...</td>\n",
              "      <td>...</td>\n",
              "      <td>...</td>\n",
              "      <td>...</td>\n",
              "      <td>...</td>\n",
              "      <td>...</td>\n",
              "      <td>...</td>\n",
              "      <td>...</td>\n",
              "      <td>...</td>\n",
              "    </tr>\n",
              "    <tr>\n",
              "      <th>24789</th>\n",
              "      <td>xerces/xercesImpl</td>\n",
              "      <td>org.apache.xml.serialize.SecuritySupport$4</td>\n",
              "      <td>SecuritySupport$4</td>\n",
              "      <td>-0.988166</td>\n",
              "      <td>-1.000000</td>\n",
              "      <td>-1.0</td>\n",
              "      <td>-0.998108</td>\n",
              "      <td>-1.000000</td>\n",
              "      <td>-1.000000</td>\n",
              "      <td>-1.000000</td>\n",
              "      <td>-1.000000</td>\n",
              "      <td>-0.997497</td>\n",
              "      <td>-1.000000</td>\n",
              "      <td>-1.000000</td>\n",
              "      <td>-1.000000</td>\n",
              "      <td>-1.000000</td>\n",
              "      <td>-1.000000</td>\n",
              "      <td>-1.000000</td>\n",
              "      <td>-1.000000</td>\n",
              "      <td>-1.000000</td>\n",
              "      <td>-0.998069</td>\n",
              "      <td>-0.999140</td>\n",
              "      <td>-0.999140</td>\n",
              "      <td>-1.000000</td>\n",
              "      <td>-0.998904</td>\n",
              "      <td>-1.000000</td>\n",
              "      <td>-1.0000</td>\n",
              "      <td>-0.998852</td>\n",
              "      <td>-0.999508</td>\n",
              "      <td>-0.998626</td>\n",
              "      <td>0.000000</td>\n",
              "      <td>0</td>\n",
              "    </tr>\n",
              "    <tr>\n",
              "      <th>24790</th>\n",
              "      <td>xerces/xercesImpl</td>\n",
              "      <td>org.apache.xml.serialize.SecuritySupport$5</td>\n",
              "      <td>SecuritySupport$5</td>\n",
              "      <td>-0.988166</td>\n",
              "      <td>-1.000000</td>\n",
              "      <td>-1.0</td>\n",
              "      <td>-0.998108</td>\n",
              "      <td>-1.000000</td>\n",
              "      <td>-1.000000</td>\n",
              "      <td>-1.000000</td>\n",
              "      <td>-1.000000</td>\n",
              "      <td>-0.997497</td>\n",
              "      <td>-1.000000</td>\n",
              "      <td>-1.000000</td>\n",
              "      <td>-1.000000</td>\n",
              "      <td>-1.000000</td>\n",
              "      <td>-1.000000</td>\n",
              "      <td>-1.000000</td>\n",
              "      <td>-1.000000</td>\n",
              "      <td>-1.000000</td>\n",
              "      <td>-0.998069</td>\n",
              "      <td>-0.999140</td>\n",
              "      <td>-0.999140</td>\n",
              "      <td>-1.000000</td>\n",
              "      <td>-0.998904</td>\n",
              "      <td>-1.000000</td>\n",
              "      <td>-1.0000</td>\n",
              "      <td>-0.998852</td>\n",
              "      <td>-0.999508</td>\n",
              "      <td>-0.998626</td>\n",
              "      <td>0.000000</td>\n",
              "      <td>0</td>\n",
              "    </tr>\n",
              "    <tr>\n",
              "      <th>24791</th>\n",
              "      <td>xerces/xercesImpl</td>\n",
              "      <td>org.apache.xml.serialize.SecuritySupport$6</td>\n",
              "      <td>SecuritySupport$6</td>\n",
              "      <td>-0.988166</td>\n",
              "      <td>-0.916667</td>\n",
              "      <td>-0.8</td>\n",
              "      <td>-0.996216</td>\n",
              "      <td>-1.000000</td>\n",
              "      <td>-1.000000</td>\n",
              "      <td>-1.000000</td>\n",
              "      <td>-1.000000</td>\n",
              "      <td>-0.997497</td>\n",
              "      <td>-1.000000</td>\n",
              "      <td>-1.000000</td>\n",
              "      <td>-1.000000</td>\n",
              "      <td>-1.000000</td>\n",
              "      <td>-1.000000</td>\n",
              "      <td>-1.000000</td>\n",
              "      <td>-1.000000</td>\n",
              "      <td>-1.000000</td>\n",
              "      <td>-0.995173</td>\n",
              "      <td>-0.997849</td>\n",
              "      <td>-0.997849</td>\n",
              "      <td>-1.000000</td>\n",
              "      <td>-0.997261</td>\n",
              "      <td>-1.000000</td>\n",
              "      <td>-1.0000</td>\n",
              "      <td>-0.998852</td>\n",
              "      <td>-0.997539</td>\n",
              "      <td>-0.998626</td>\n",
              "      <td>0.000000</td>\n",
              "      <td>0</td>\n",
              "    </tr>\n",
              "    <tr>\n",
              "      <th>24792</th>\n",
              "      <td>xerces/xercesImpl</td>\n",
              "      <td>org.apache.xml.serialize.SecuritySupport$7</td>\n",
              "      <td>SecuritySupport$7</td>\n",
              "      <td>-0.988166</td>\n",
              "      <td>-1.000000</td>\n",
              "      <td>-1.0</td>\n",
              "      <td>-0.996216</td>\n",
              "      <td>-1.000000</td>\n",
              "      <td>-1.000000</td>\n",
              "      <td>-1.000000</td>\n",
              "      <td>-1.000000</td>\n",
              "      <td>-0.997497</td>\n",
              "      <td>-1.000000</td>\n",
              "      <td>-1.000000</td>\n",
              "      <td>-1.000000</td>\n",
              "      <td>-1.000000</td>\n",
              "      <td>-1.000000</td>\n",
              "      <td>-1.000000</td>\n",
              "      <td>-1.000000</td>\n",
              "      <td>-1.000000</td>\n",
              "      <td>-0.998069</td>\n",
              "      <td>-0.999140</td>\n",
              "      <td>-0.999140</td>\n",
              "      <td>-1.000000</td>\n",
              "      <td>-0.998904</td>\n",
              "      <td>-1.000000</td>\n",
              "      <td>-1.0000</td>\n",
              "      <td>-0.998852</td>\n",
              "      <td>-0.999508</td>\n",
              "      <td>-0.998626</td>\n",
              "      <td>0.000000</td>\n",
              "      <td>0</td>\n",
              "    </tr>\n",
              "    <tr>\n",
              "      <th>24793</th>\n",
              "      <td>xerces/xercesImpl</td>\n",
              "      <td>org.apache.xml.serialize.SecuritySupport$8</td>\n",
              "      <td>SecuritySupport$8</td>\n",
              "      <td>-0.988166</td>\n",
              "      <td>-1.000000</td>\n",
              "      <td>-1.0</td>\n",
              "      <td>-0.998108</td>\n",
              "      <td>-1.000000</td>\n",
              "      <td>-1.000000</td>\n",
              "      <td>-1.000000</td>\n",
              "      <td>-1.000000</td>\n",
              "      <td>-0.997497</td>\n",
              "      <td>-1.000000</td>\n",
              "      <td>-1.000000</td>\n",
              "      <td>-1.000000</td>\n",
              "      <td>-1.000000</td>\n",
              "      <td>-1.000000</td>\n",
              "      <td>-1.000000</td>\n",
              "      <td>-1.000000</td>\n",
              "      <td>-1.000000</td>\n",
              "      <td>-0.998069</td>\n",
              "      <td>-0.999140</td>\n",
              "      <td>-0.999140</td>\n",
              "      <td>-1.000000</td>\n",
              "      <td>-0.998904</td>\n",
              "      <td>-1.000000</td>\n",
              "      <td>-1.0000</td>\n",
              "      <td>-0.998852</td>\n",
              "      <td>-0.999508</td>\n",
              "      <td>-0.998626</td>\n",
              "      <td>0.000000</td>\n",
              "      <td>0</td>\n",
              "    </tr>\n",
              "  </tbody>\n",
              "</table>\n",
              "<p>24794 rows × 32 columns</p>\n",
              "</div>"
            ],
            "text/plain": [
              "                              Project  ... ReuseRate_lbl\n",
              "0      ch.qos.logback/logback-classic  ...             4\n",
              "1      ch.qos.logback/logback-classic  ...             3\n",
              "2      ch.qos.logback/logback-classic  ...             4\n",
              "3      ch.qos.logback/logback-classic  ...             4\n",
              "4      ch.qos.logback/logback-classic  ...             4\n",
              "...                               ...  ...           ...\n",
              "24789               xerces/xercesImpl  ...             0\n",
              "24790               xerces/xercesImpl  ...             0\n",
              "24791               xerces/xercesImpl  ...             0\n",
              "24792               xerces/xercesImpl  ...             0\n",
              "24793               xerces/xercesImpl  ...             0\n",
              "\n",
              "[24794 rows x 32 columns]"
            ]
          },
          "metadata": {},
          "execution_count": 8
        }
      ]
    },
    {
      "cell_type": "code",
      "metadata": {
        "colab": {
          "base_uri": "https://localhost:8080/"
        },
        "id": "72nrE7Alb8Mt",
        "outputId": "6473d847-da32-471c-80de-7aaad288f66c"
      },
      "source": [
        "data_columns"
      ],
      "execution_count": null,
      "outputs": [
        {
          "output_type": "execute_result",
          "data": {
            "text/plain": [
              "Index(['LCOM5', 'NL', 'NLE', 'WMC', 'CBO', 'CBOI', 'NII', 'NOI', 'RFC', 'AD',\n",
              "       'CD', 'TCD', 'CLOC', 'TCLOC', 'DLOC', 'PDA', 'DIT', 'LLOC', 'LOC',\n",
              "       'TLOC', 'NG', 'TLLOC', 'TNA', 'TNG', 'TNM', 'TNOS', 'TNPM'],\n",
              "      dtype='object')"
            ]
          },
          "metadata": {},
          "execution_count": 9
        }
      ]
    },
    {
      "cell_type": "code",
      "metadata": {
        "id": "sBHrzowfdWi-"
      },
      "source": [
        "cls_correletad_idx = [5, 12, 13, 14, 15]"
      ],
      "execution_count": null,
      "outputs": []
    },
    {
      "cell_type": "markdown",
      "metadata": {
        "id": "qbOMbAO4ideh"
      },
      "source": [
        "### Training data preparation "
      ]
    },
    {
      "cell_type": "code",
      "metadata": {
        "id": "8kbRzMLmfI1G"
      },
      "source": [
        "splitter = int(len(X) * .8)\n",
        "X_train = X[:splitter].astype('float32')\n",
        "Y_train = Y[:splitter].astype('int32')\n",
        "X_val = X[splitter:].astype('float32')\n",
        "Y_val = Y[splitter:].astype('int32')"
      ],
      "execution_count": null,
      "outputs": []
    },
    {
      "cell_type": "markdown",
      "metadata": {
        "id": "pBOVUH0YW_HW"
      },
      "source": [
        "### Train model"
      ]
    },
    {
      "cell_type": "code",
      "metadata": {
        "id": "MYsVRaQmXBZ8",
        "colab": {
          "base_uri": "https://localhost:8080/"
        },
        "outputId": "fdaaa066-0b37-436c-d1bd-c7a34e599c1d"
      },
      "source": [
        "##model\n",
        "\n",
        "def my_model_fully_connected(loss_fn, opt, ishape = 27, lr = 1e-2):\n",
        "    model_input = tf.keras.layers.Input(shape = ishape)\n",
        "    l2 = tf.keras.layers.Dense(50, activation = 'relu')(model_input)\n",
        "    l2_drop = tf.keras.layers.Dropout(0.02)(l2)\n",
        "    l3 = tf.keras.layers.Dense(20, activation = 'relu')(l2_drop)\n",
        "    l4 =  tf.keras.layers.Dense(20, activation = 'relu')(l3)\n",
        "    l5 =  tf.keras.layers.Dense(10, activation = 'relu')(l4)\n",
        "    #l6 =  tf.keras.layers.Dense(10, activation = 'relu')(l5)\n",
        "    out= tf.keras.layers.Dense(1, activation = 'softmax')(l5)\n",
        "    model = tf.keras.models.Model(inputs = model_input, outputs = out)\n",
        "    model.compile(optimizer=opt, loss=loss_fn, metrics = ['accuracy'])\n",
        "    return model\n",
        "\n",
        "lr = 0.001\n",
        "opt = 'adam'\n",
        "loss_fn = 'mse'\n",
        "model = my_model_fully_connected(loss_fn, opt, ishape=18, lr= lr)\n",
        "print(model.summary())\n"
      ],
      "execution_count": null,
      "outputs": [
        {
          "output_type": "stream",
          "name": "stdout",
          "text": [
            "Model: \"model_3\"\n",
            "_________________________________________________________________\n",
            " Layer (type)                Output Shape              Param #   \n",
            "=================================================================\n",
            " input_4 (InputLayer)        [(None, 18)]              0         \n",
            "                                                                 \n",
            " dense_17 (Dense)            (None, 50)                950       \n",
            "                                                                 \n",
            " dropout_3 (Dropout)         (None, 50)                0         \n",
            "                                                                 \n",
            " dense_18 (Dense)            (None, 20)                1020      \n",
            "                                                                 \n",
            " dense_19 (Dense)            (None, 20)                420       \n",
            "                                                                 \n",
            " dense_20 (Dense)            (None, 10)                210       \n",
            "                                                                 \n",
            " dense_21 (Dense)            (None, 1)                 11        \n",
            "                                                                 \n",
            "=================================================================\n",
            "Total params: 2,611\n",
            "Trainable params: 2,611\n",
            "Non-trainable params: 0\n",
            "_________________________________________________________________\n",
            "None\n"
          ]
        }
      ]
    },
    {
      "cell_type": "code",
      "metadata": {
        "id": "NrIO_556XC9Y"
      },
      "source": [
        "# Call backs \n",
        "model_name_fcn = \"First_draft.h5\"\n",
        "early_stop = tf.keras.callbacks.EarlyStopping(monitor='val_loss', patience = 20)\n",
        "\n",
        "monitor = tf.keras.callbacks.ModelCheckpoint(model_name_fcn, monitor='val_loss',\\\n",
        "                                             verbose=0, save_best_only=True,\\\n",
        "                                             save_weights_only=True,\\\n",
        "                                             mode='min')\n",
        "# Learning rate schedule\n",
        "def scheduler(epoch, lr):\n",
        "    if epoch%10 == 0:\n",
        "        lr = lr/2\n",
        "    return lr\n",
        "\n",
        "lr_schedule = tf.keras.callbacks.LearningRateScheduler(scheduler, verbose = 0)"
      ],
      "execution_count": null,
      "outputs": []
    },
    {
      "cell_type": "code",
      "metadata": {
        "id": "dQK6eaFC47Mt"
      },
      "source": [
        "# Train\n",
        "model.fit(X_train, Y_train, epochs = 100, batch_size=200, \\\n",
        "          verbose = 1, callbacks= [early_stop, monitor, lr_schedule], validation_data= (X_val, Y_val))"
      ],
      "execution_count": null,
      "outputs": []
    },
    {
      "cell_type": "code",
      "metadata": {
        "colab": {
          "base_uri": "https://localhost:8080/"
        },
        "id": "j6dHa1rp4o81",
        "outputId": "cfb4238d-b01b-405f-e0df-2429c2d0cb8f"
      },
      "source": [
        "from sklearn.neural_network import MLPClassifier\n",
        "from sklearn.datasets import make_classification\n",
        "from sklearn.model_selection import train_test_split\n",
        "\n",
        "clf = MLPClassifier(hidden_layer_sizes=(200, 100, 50, 20, 10), random_state=1, max_iter=300, solver='adam').fit(X_train, Y_train)\n",
        "\n",
        "clf.score(X_val, Y_val)"
      ],
      "execution_count": null,
      "outputs": [
        {
          "output_type": "execute_result",
          "data": {
            "text/plain": [
              "0.7469247832224238"
            ]
          },
          "metadata": {},
          "execution_count": 49
        }
      ]
    },
    {
      "cell_type": "code",
      "metadata": {
        "id": "X5zJXwQ9tX3T"
      },
      "source": [
        "X_train"
      ],
      "execution_count": null,
      "outputs": []
    },
    {
      "cell_type": "code",
      "metadata": {
        "id": "W8-aSLvvZXUo"
      },
      "source": [
        "\n",
        "for i in range(len(X_train[0])):\n",
        "  print('feature: {0} \\n'.format(i))\n",
        "  X_temp_train = np.zeros((len(X_train), len(X_train[0])))\n",
        "  X_temp_val =  np.zeros((len(X_val), len(X_val[0])))\n",
        "\n",
        "  X_temp_train[:, i] = X_train [:,i]\n",
        "  X_temp_val[:, i] = X_val [:,i]\n",
        "  clf = MLPClassifier(hidden_layer_sizes=(200, 100, 50, 20, 10), random_state=1, max_iter=600, solver='adam').fit(X_temp_train, Y_train)\n",
        "  print(clf.score(X_temp_val, Y_val))\n",
        "  "
      ],
      "execution_count": null,
      "outputs": []
    },
    {
      "cell_type": "code",
      "metadata": {
        "id": "ESbjlgVHFhos"
      },
      "source": [
        "X_temp_train = np.zeros((len(X_train), len(X_train[0])))\n",
        "X_temp_train[:, 0] = X_train [:,0]\n",
        "X_temp_train"
      ],
      "execution_count": null,
      "outputs": []
    },
    {
      "cell_type": "markdown",
      "metadata": {
        "id": "onMuNtttrBka"
      },
      "source": [
        "### Regression"
      ]
    },
    {
      "cell_type": "code",
      "metadata": {
        "id": "_iZJX6Odq1gm"
      },
      "source": [
        "data = cls_df\n",
        "df = data.iloc[:,3:-2]\n",
        "data_columns = df.columns\n",
        "X_np = np.array(df)\n",
        "X = X_np\n",
        "\n",
        "Y = data.iloc[:,-2]\n",
        "\n",
        "\n",
        "splitter = int(len(X) * .8)\n",
        "X_train = X[:splitter].astype('float32')\n",
        "Y_train = Y[:splitter].astype('int32')\n",
        "X_val = X[splitter:].astype('float32')\n",
        "Y_val = Y[splitter:].astype('int32')\n",
        "\n",
        "corr_data = True\n",
        "\n",
        "if corr_data:\n",
        "  X_temp_train = np.zeros((len(X_train), len(cls_correletad_idx)))\n",
        "  X_temp_val =  np.zeros((len(X_val), len(cls_correletad_idx)))\n",
        "\n",
        "  counter = 0\n",
        "  for i in cls_correletad_idx:  \n",
        "    X_temp_train[:,counter] = X_train [:,i]\n",
        "    X_temp_val[:, counter] = X_val [:,i]\n",
        "    counter += 1\n",
        "  X_train = X_temp_train\n",
        "  X_val = X_temp_val"
      ],
      "execution_count": null,
      "outputs": []
    },
    {
      "cell_type": "code",
      "metadata": {
        "id": "T_WyWPwNsJqX"
      },
      "source": [
        "X_train"
      ],
      "execution_count": null,
      "outputs": []
    },
    {
      "cell_type": "code",
      "metadata": {
        "colab": {
          "base_uri": "https://localhost:8080/"
        },
        "id": "qsitKmPcrDPJ",
        "outputId": "7e049cb5-4783-4046-f662-7827f64788ed"
      },
      "source": [
        "from sklearn.neural_network import MLPRegressor\n",
        "from sklearn.datasets import make_classification\n",
        "from sklearn.model_selection import train_test_split\n",
        "from sklearn.metrics import mean_squared_error\n",
        "\n",
        "clf = MLPRegressor(hidden_layer_sizes=(200, 100, 50, 20, 10), random_state=1, max_iter=600, solver='adam').fit(X_train, Y_train)\n",
        "\n",
        "Y_pred = clf.predict(X_val)\n",
        "rms = mean_squared_error(Y_val, Y_pred, squared=False)\n",
        "rms"
      ],
      "execution_count": null,
      "outputs": [
        {
          "output_type": "execute_result",
          "data": {
            "text/plain": [
              "1.618241740627832"
            ]
          },
          "metadata": {},
          "execution_count": 34
        }
      ]
    },
    {
      "cell_type": "markdown",
      "metadata": {
        "id": "hyd2aa8mVrfi"
      },
      "source": [
        "## Package DNN"
      ]
    },
    {
      "cell_type": "markdown",
      "metadata": {
        "id": "GH5nhMPMXYRz"
      },
      "source": [
        "### Load data"
      ]
    },
    {
      "cell_type": "code",
      "metadata": {
        "id": "RLf0gtbvWxKC"
      },
      "source": [
        "data = pkg_df\n",
        "df = data.iloc[:,3:-2]\n",
        "data_columns = df.columns\n",
        "X_np = np.array(df)\n",
        "X = X_np\n",
        "\n",
        "Y = data.iloc[:,-1]\n",
        "data_columns"
      ],
      "execution_count": null,
      "outputs": []
    },
    {
      "cell_type": "code",
      "metadata": {
        "id": "0bzvF1O81uxl"
      },
      "source": [
        "cls_correletad_idx = [1, 2, 3, 5, 17]"
      ],
      "execution_count": null,
      "outputs": []
    },
    {
      "cell_type": "code",
      "metadata": {
        "id": "tgVoBmEAEMxU"
      },
      "source": [
        "splitter = int(len(X) * .8)\n",
        "X_train = X[:splitter]\n",
        "Y_train = Y[:splitter]\n",
        "X_val = X[splitter:]\n",
        "Y_val = Y[splitter:]\n",
        "\n",
        "corr_data = False\n",
        "\n",
        "if corr_data:\n",
        "  X_temp_train = np.zeros((len(X_train), len(cls_correletad_idx)))\n",
        "  X_temp_val =  np.zeros((len(X_val), len(cls_correletad_idx)))\n",
        "\n",
        "  counter = 0\n",
        "  for i in cls_correletad_idx:  \n",
        "    X_temp_train[:,counter] = X_train [:,i]\n",
        "    X_temp_val[:, counter] = X_val [:,i]\n",
        "    counter += 1\n",
        "  X_train = X_temp_train\n",
        "  X_val = X_temp_val"
      ],
      "execution_count": null,
      "outputs": []
    },
    {
      "cell_type": "markdown",
      "metadata": {
        "id": "R9tAB9YCXZ8p"
      },
      "source": [
        "## Train model"
      ]
    },
    {
      "cell_type": "markdown",
      "metadata": {
        "id": "P-bRKM-s2zbZ"
      },
      "source": [
        "### REG"
      ]
    },
    {
      "cell_type": "code",
      "metadata": {
        "id": "0VJVOdnxXcFJ"
      },
      "source": [
        "from sklearn.neural_network import MLPRegressor\n",
        "from sklearn.datasets import make_classification\n",
        "from sklearn.model_selection import train_test_split\n",
        "from sklearn.metrics import mean_squared_error\n",
        "\n",
        "clf = MLPRegressor(hidden_layer_sizes=(100, 50, 20, 10), random_state=1, max_iter=600, solver='adam').fit(X_train, Y_train)\n",
        "\n",
        "Y_pred = clf.predict(X_val)\n",
        "rms = mean_squared_error(Y_val, Y_pred, squared=False)\n",
        "rms"
      ],
      "execution_count": null,
      "outputs": []
    },
    {
      "cell_type": "markdown",
      "metadata": {
        "id": "s5-ZUzt421aK"
      },
      "source": [
        "### Classification\n"
      ]
    },
    {
      "cell_type": "code",
      "metadata": {
        "id": "MSG14H0HXdbP"
      },
      "source": [
        "from sklearn.neural_network import MLPClassifier\n",
        "from sklearn.datasets import make_classification\n",
        "from sklearn.model_selection import train_test_split\n",
        "from sklearn.metrics import mean_squared_error\n",
        "\n",
        "clf = MLPClassifier(hidden_layer_sizes=(100, 50, 20, 10), random_state=1, max_iter=600, solver='adam').fit(X_train, Y_train)\n",
        "clf.score(X_val, Y_val)"
      ],
      "execution_count": null,
      "outputs": []
    }
  ]
}
